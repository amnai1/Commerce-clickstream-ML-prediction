{
  "cells": [
    {
      "cell_type": "markdown",
      "source": [
        "# Commerce clickstream ML prediction\n",
        "#### Dataset download > [Ad impressions with clicks dataset](https://www.kaggle.com/c/avazu-ctr-prediction/data)\n",
        "\n",
        "The use case here I am taking is of a Commerce company that has an ecommerce website as well as traditional retail stores. They want to analyse the online clickstream data to better understand their customers. We will use a sample clickstream dataset from the data science website Kaggle.  We will start with the Ingest and Exploration of data. Next we create features and train and evaluate the ML model. We will join this data with Dynamics products table to try to analyse if products influence the ML model result. The goal of this workflow is to create a machine learning model that, given a new ad impression, predicts whether or not there will be a click. We will also do features exploration to see what features influence the prediction most. We have a big dataset so we will go with supervised learning which relies on historicl data to build a model to predict the result of the next observation.\n",
        "\n",
        "Clickstream data is data about how users interact with your ecommerce websites, what ads they click, what products they view, which pages they spend most time on. It is behavioural data that can give you insights into your products and customers so you can better market to your customer base.\n",
        "\n",
        "The notebook is written in PySpark and executed on Synapse. \n",
        "\n",
        "Note- In the dataset download from Kaggle, train.csv given is 40 million rows, a 6 GB uncompressed file! Excel only shows 1 million, and since i wanted to add a product column, i saved excel as a smaller set of 1 million rows. I filled with some random product numbers taken from Dynamics to be able to make joins."
      ],
      "metadata": {
        "application/vnd.databricks.v1+cell": {
          "title": "",
          "showTitle": false,
          "inputWidgets": {},
          "nuid": "de8d6fda-a42f-4e37-94f5-2896f6747a56"
        }
      }
    },
    {
      "cell_type": "code",
      "source": [
        "# Reading clicks csv files in a dataframe\n",
        "file_path = \"abfss://commercedata@salabcommercedatalake.dfs.core.windows.net/clickstream-ad-ML/adtech/impression/csv/train_1M_p.csv\"\n",
        "df_clicks = spark.read.csv(file_path, header=True, inferSchema=True)\n",
        "display(df_clicks.limit(10))"
      ],
      "outputs": [
        {
          "output_type": "display_data",
          "data": {
            "application/vnd.livy.statement-meta+json": {
              "spark_pool": "SparkNB",
              "session_id": 0,
              "statement_id": 7,
              "state": "finished",
              "livy_statement_state": "available",
              "queued_time": "2022-05-01T23:50:12.8091132Z",
              "session_start_time": null,
              "execution_start_time": "2022-05-01T23:50:12.9222741Z",
              "execution_finish_time": "2022-05-01T23:50:16.8499005Z"
            },
            "text/plain": "StatementMeta(SparkNB, 0, 7, Finished, Available)"
          },
          "metadata": {}
        },
        {
          "output_type": "display_data",
          "data": {
            "application/vnd.synapse.widget-view+json": {
              "widget_id": "b89e29b3-1856-422c-abde-76f82a252f84",
              "widget_type": "Synapse.DataFrame"
            },
            "text/plain": "SynapseWidget(Synapse.DataFrame, b89e29b3-1856-422c-abde-76f82a252f84)"
          },
          "metadata": {}
        }
      ],
      "execution_count": 6,
      "metadata": {
        "application/vnd.databricks.v1+cell": {
          "title": "Read data, infer schema",
          "showTitle": true,
          "inputWidgets": {},
          "nuid": "dfcac8db-e5be-487d-9077-8811cf5e489d"
        },
        "collapsed": false
      }
    },
    {
      "cell_type": "code",
      "source": [
        "df_clicks.count()"
      ],
      "outputs": [
        {
          "output_type": "display_data",
          "data": {
            "application/vnd.livy.statement-meta+json": {
              "spark_pool": "SparkNB",
              "session_id": 0,
              "statement_id": 8,
              "state": "finished",
              "livy_statement_state": "available",
              "queued_time": "2022-05-01T23:50:12.9516005Z",
              "session_start_time": null,
              "execution_start_time": "2022-05-01T23:50:16.9572748Z",
              "execution_finish_time": "2022-05-01T23:50:18.8126175Z"
            },
            "text/plain": "StatementMeta(SparkNB, 0, 8, Finished, Available)"
          },
          "metadata": {}
        },
        {
          "output_type": "display_data",
          "data": {
            "text/plain": "1048575"
          },
          "metadata": {}
        }
      ],
      "execution_count": 7,
      "metadata": {
        "application/vnd.databricks.v1+cell": {
          "title": "~ 1 M rows",
          "showTitle": true,
          "inputWidgets": {},
          "nuid": "dba4b794-0337-46cc-9ae2-367b47d58dae"
        }
      }
    },
    {
      "cell_type": "code",
      "source": [
        "df_clicks.printSchema()"
      ],
      "outputs": [
        {
          "output_type": "display_data",
          "data": {
            "application/vnd.livy.statement-meta+json": {
              "spark_pool": "SparkNB",
              "session_id": 0,
              "statement_id": 9,
              "state": "finished",
              "livy_statement_state": "available",
              "queued_time": "2022-05-01T23:50:13.102462Z",
              "session_start_time": null,
              "execution_start_time": "2022-05-01T23:50:18.9453285Z",
              "execution_finish_time": "2022-05-01T23:50:19.1038371Z"
            },
            "text/plain": "StatementMeta(SparkNB, 0, 9, Finished, Available)"
          },
          "metadata": {}
        },
        {
          "output_type": "stream",
          "name": "stdout",
          "text": [
            "root\n |-- id: double (nullable = true)\n |-- click: integer (nullable = true)\n |-- hour: integer (nullable = true)\n |-- C1: integer (nullable = true)\n |-- banner_pos: integer (nullable = true)\n |-- site_id: string (nullable = true)\n |-- site_domain: string (nullable = true)\n |-- site_category: string (nullable = true)\n |-- product: string (nullable = true)\n |-- app_id: string (nullable = true)\n |-- app_domain: string (nullable = true)\n |-- app_category: string (nullable = true)\n |-- device_id: string (nullable = true)\n |-- device_ip: string (nullable = true)\n |-- device_model: string (nullable = true)\n |-- device_type: integer (nullable = true)\n |-- device_conn_type: integer (nullable = true)\n |-- C14: integer (nullable = true)\n |-- C15: integer (nullable = true)\n |-- C16: integer (nullable = true)\n |-- C17: integer (nullable = true)\n |-- C18: integer (nullable = true)\n |-- C19: integer (nullable = true)\n |-- C20: integer (nullable = true)\n |-- C21: integer (nullable = true)"
          ]
        }
      ],
      "execution_count": 8,
      "metadata": {
        "application/vnd.databricks.v1+cell": {
          "title": "",
          "showTitle": false,
          "inputWidgets": {},
          "nuid": "7ed2b5d4-6b2c-47f9-baa1-072c7a53be3c"
        }
      }
    },
    {
      "cell_type": "code",
      "source": [
        "display(df_clicks.describe())"
      ],
      "outputs": [
        {
          "output_type": "display_data",
          "data": {
            "application/vnd.livy.statement-meta+json": {
              "spark_pool": "SparkNB",
              "session_id": 0,
              "statement_id": 10,
              "state": "finished",
              "livy_statement_state": "available",
              "queued_time": "2022-05-01T23:50:13.602101Z",
              "session_start_time": null,
              "execution_start_time": "2022-05-01T23:50:19.2101658Z",
              "execution_finish_time": "2022-05-01T23:50:34.0141784Z"
            },
            "text/plain": "StatementMeta(SparkNB, 0, 10, Finished, Available)"
          },
          "metadata": {}
        },
        {
          "output_type": "display_data",
          "data": {
            "application/vnd.synapse.widget-view+json": {
              "widget_id": "46c4f8b5-ddce-4995-9b3e-3e6e0d0738ee",
              "widget_type": "Synapse.DataFrame"
            },
            "text/plain": "SynapseWidget(Synapse.DataFrame, 46c4f8b5-ddce-4995-9b3e-3e6e0d0738ee)"
          },
          "metadata": {}
        }
      ],
      "execution_count": 9,
      "metadata": {
        "application/vnd.databricks.v1+cell": {
          "title": "Summary statistics for numeric variables",
          "showTitle": true,
          "inputWidgets": {},
          "nuid": "945d796b-ac75-4135-8685-0e5317e32c0e"
        },
        "collapsed": false
      }
    },
    {
      "cell_type": "code",
      "source": [
        "# create a sql view\n",
        "df_clicks.createOrReplaceTempView(\"vw_clicks\")"
      ],
      "outputs": [
        {
          "output_type": "display_data",
          "data": {
            "application/vnd.livy.statement-meta+json": {
              "spark_pool": "SparkNB",
              "session_id": 0,
              "statement_id": 11,
              "state": "finished",
              "livy_statement_state": "available",
              "queued_time": "2022-05-01T23:50:13.7991983Z",
              "session_start_time": null,
              "execution_start_time": "2022-05-01T23:50:34.172447Z",
              "execution_finish_time": "2022-05-01T23:50:35.193501Z"
            },
            "text/plain": "StatementMeta(SparkNB, 0, 11, Finished, Available)"
          },
          "metadata": {}
        }
      ],
      "execution_count": 10,
      "metadata": {
        "application/vnd.databricks.v1+cell": {
          "title": "",
          "showTitle": false,
          "inputWidgets": {},
          "nuid": "b2a2b2dd-ea9d-4cba-8f8b-22863bfaa373"
        }
      }
    },
    {
      "cell_type": "code",
      "source": [
        "%%sql \r\n",
        "describe vw_clicks"
      ],
      "outputs": [
        {
          "output_type": "display_data",
          "data": {
            "application/vnd.livy.statement-meta+json": {
              "spark_pool": "SparkNB",
              "session_id": 0,
              "statement_id": 12,
              "state": "finished",
              "livy_statement_state": "available",
              "queued_time": "2022-05-01T23:54:02.8306943Z",
              "session_start_time": null,
              "execution_start_time": "2022-05-01T23:54:03.0378705Z",
              "execution_finish_time": "2022-05-01T23:54:09.8588573Z"
            },
            "text/plain": "StatementMeta(SparkNB, 0, 12, Finished, Available)"
          },
          "metadata": {}
        },
        {
          "output_type": "execute_result",
          "execution_count": 13,
          "data": {
            "application/vnd.synapse.sparksql-result+json": {
              "schema": {
                "type": "struct",
                "fields": [
                  {
                    "name": "col_name",
                    "type": "string",
                    "nullable": false,
                    "metadata": {
                      "comment": "name of the column"
                    }
                  },
                  {
                    "name": "data_type",
                    "type": "string",
                    "nullable": false,
                    "metadata": {
                      "comment": "data type of the column"
                    }
                  },
                  {
                    "name": "comment",
                    "type": "string",
                    "nullable": true,
                    "metadata": {
                      "comment": "comment of the column"
                    }
                  }
                ]
              },
              "data": [
                [
                  "id",
                  "double",
                  null
                ],
                [
                  "click",
                  "int",
                  null
                ],
                [
                  "hour",
                  "int",
                  null
                ],
                [
                  "C1",
                  "int",
                  null
                ],
                [
                  "banner_pos",
                  "int",
                  null
                ],
                [
                  "site_id",
                  "string",
                  null
                ],
                [
                  "site_domain",
                  "string",
                  null
                ],
                [
                  "site_category",
                  "string",
                  null
                ],
                [
                  "product",
                  "string",
                  null
                ],
                [
                  "app_id",
                  "string",
                  null
                ],
                [
                  "app_domain",
                  "string",
                  null
                ],
                [
                  "app_category",
                  "string",
                  null
                ],
                [
                  "device_id",
                  "string",
                  null
                ],
                [
                  "device_ip",
                  "string",
                  null
                ],
                [
                  "device_model",
                  "string",
                  null
                ],
                [
                  "device_type",
                  "int",
                  null
                ],
                [
                  "device_conn_type",
                  "int",
                  null
                ],
                [
                  "C14",
                  "int",
                  null
                ],
                [
                  "C15",
                  "int",
                  null
                ],
                [
                  "C16",
                  "int",
                  null
                ],
                [
                  "C17",
                  "int",
                  null
                ],
                [
                  "C18",
                  "int",
                  null
                ],
                [
                  "C19",
                  "int",
                  null
                ],
                [
                  "C20",
                  "int",
                  null
                ],
                [
                  "C21",
                  "int",
                  null
                ]
              ]
            },
            "text/plain": "<Spark SQL result set with 25 rows and 3 fields>"
          },
          "metadata": {}
        }
      ],
      "execution_count": 13,
      "metadata": {
        "application/vnd.databricks.v1+cell": {
          "title": "",
          "showTitle": false,
          "inputWidgets": {},
          "nuid": "fc4a2709-b27e-45ef-842a-60192159ed14"
        },
        "microsoft": {
          "language": "sparksql"
        },
        "collapsed": false
      }
    },
    {
      "cell_type": "code",
      "source": [
        "# Reading product csv files in a dataframe\n",
        "df_product= spark.read.format(\"csv\").option(\"header\",False).load(\"abfss://dynamics365-financeandoperations@salabcommercedatalake.dfs.core.windows.net/d365commerce.sandbox.operations.dynamics.com/Tables/SupplyChain/ProductInformationManagement/Main/EcoResProduct/ECORESPRODUCT_00001.csv\")\n",
        "\n",
        "display(df_product.limit(10))"
      ],
      "outputs": [
        {
          "output_type": "display_data",
          "data": {
            "application/vnd.livy.statement-meta+json": {
              "spark_pool": "SparkNB",
              "session_id": 0,
              "statement_id": 13,
              "state": "finished",
              "livy_statement_state": "available",
              "queued_time": "2022-05-01T23:56:11.1384757Z",
              "session_start_time": null,
              "execution_start_time": "2022-05-01T23:56:11.2929262Z",
              "execution_finish_time": "2022-05-01T23:56:12.3669025Z"
            },
            "text/plain": "StatementMeta(SparkNB, 0, 13, Finished, Available)"
          },
          "metadata": {}
        },
        {
          "output_type": "display_data",
          "data": {
            "application/vnd.synapse.widget-view+json": {
              "widget_id": "c82c774b-f5b2-469c-ba8e-77fcbe82e35c",
              "widget_type": "Synapse.DataFrame"
            },
            "text/plain": "SynapseWidget(Synapse.DataFrame, c82c774b-f5b2-469c-ba8e-77fcbe82e35c)"
          },
          "metadata": {}
        }
      ],
      "execution_count": 14,
      "metadata": {
        "application/vnd.databricks.v1+cell": {
          "title": "",
          "showTitle": false,
          "inputWidgets": {},
          "nuid": "b7365f6a-e2c9-425a-a45c-ed39186257bc"
        },
        "collapsed": false
      }
    },
    {
      "cell_type": "code",
      "source": [
        "# select only relevant columns and create a new dataframe\n",
        "df_productSmall =  df_product.selectExpr(\n",
        "    '_c12 AS ProductId',\n",
        "    '_c16 AS ProductName')\n",
        "\n",
        "display(df_productSmall.limit(10))"
      ],
      "outputs": [
        {
          "output_type": "display_data",
          "data": {
            "application/vnd.livy.statement-meta+json": {
              "spark_pool": "SparkNB",
              "session_id": 0,
              "statement_id": 14,
              "state": "finished",
              "livy_statement_state": "available",
              "queued_time": "2022-05-01T23:56:11.2665748Z",
              "session_start_time": null,
              "execution_start_time": "2022-05-01T23:56:12.4758983Z",
              "execution_finish_time": "2022-05-01T23:56:13.0081915Z"
            },
            "text/plain": "StatementMeta(SparkNB, 0, 14, Finished, Available)"
          },
          "metadata": {}
        },
        {
          "output_type": "display_data",
          "data": {
            "application/vnd.synapse.widget-view+json": {
              "widget_id": "b789ba34-0ce9-4246-a802-83dc71822205",
              "widget_type": "Synapse.DataFrame"
            },
            "text/plain": "SynapseWidget(Synapse.DataFrame, b789ba34-0ce9-4246-a802-83dc71822205)"
          },
          "metadata": {}
        }
      ],
      "execution_count": 15,
      "metadata": {
        "application/vnd.databricks.v1+cell": {
          "title": "",
          "showTitle": false,
          "inputWidgets": {},
          "nuid": "2fdf6a54-b508-4dca-b28a-45bb364e3eea"
        },
        "collapsed": false
      }
    },
    {
      "cell_type": "code",
      "source": [
        "# create a view\n",
        "df_productSmall.createOrReplaceTempView(\"vw_Products\")"
      ],
      "outputs": [
        {
          "output_type": "display_data",
          "data": {
            "application/vnd.livy.statement-meta+json": {
              "spark_pool": "SparkNB",
              "session_id": 0,
              "statement_id": 15,
              "state": "finished",
              "livy_statement_state": "available",
              "queued_time": "2022-05-01T23:56:11.4733853Z",
              "session_start_time": null,
              "execution_start_time": "2022-05-01T23:56:13.1318291Z",
              "execution_finish_time": "2022-05-01T23:56:13.291077Z"
            },
            "text/plain": "StatementMeta(SparkNB, 0, 15, Finished, Available)"
          },
          "metadata": {}
        }
      ],
      "execution_count": 16,
      "metadata": {
        "application/vnd.databricks.v1+cell": {
          "title": "",
          "showTitle": false,
          "inputWidgets": {},
          "nuid": "f2800932-8762-40ae-8804-e269e285b657"
        }
      }
    },
    {
      "cell_type": "code",
      "source": [
        "%%sql\n",
        "select * from vw_Products limit 10"
      ],
      "outputs": [
        {
          "output_type": "display_data",
          "data": {
            "application/vnd.livy.statement-meta+json": {
              "spark_pool": "SparkNB",
              "session_id": 0,
              "statement_id": 16,
              "state": "finished",
              "livy_statement_state": "available",
              "queued_time": "2022-05-01T23:56:12.1022539Z",
              "session_start_time": null,
              "execution_start_time": "2022-05-01T23:56:13.3895069Z",
              "execution_finish_time": "2022-05-01T23:56:14.4484054Z"
            },
            "text/plain": "StatementMeta(SparkNB, 0, 16, Finished, Available)"
          },
          "metadata": {}
        },
        {
          "output_type": "execute_result",
          "execution_count": 17,
          "data": {
            "application/vnd.synapse.sparksql-result+json": {
              "schema": {
                "type": "struct",
                "fields": [
                  {
                    "name": "ProductId",
                    "type": "string",
                    "nullable": true,
                    "metadata": {}
                  },
                  {
                    "name": "ProductName",
                    "type": "string",
                    "nullable": true,
                    "metadata": {}
                  }
                ]
              },
              "data": [
                [
                  "D0001",
                  "MidRangeSpeaker"
                ],
                [
                  "D0002",
                  "Cabinet"
                ],
                [
                  "D0003",
                  "StandardSpeaker"
                ],
                [
                  "L0001",
                  "MidRangeSpeaker2"
                ],
                [
                  "M0001",
                  "WiringHarness"
                ],
                [
                  "M0002",
                  "MidRangeSpeakerUnit"
                ],
                [
                  "M0003",
                  "TweeterSpeakerUnit"
                ],
                [
                  "M0004",
                  "Crossover"
                ],
                [
                  "M0005",
                  "Enclosure"
                ],
                [
                  "M0006",
                  "BindingPosts"
                ]
              ]
            },
            "text/plain": "<Spark SQL result set with 10 rows and 2 fields>"
          },
          "metadata": {}
        }
      ],
      "execution_count": 17,
      "metadata": {
        "application/vnd.databricks.v1+cell": {
          "title": "",
          "showTitle": false,
          "inputWidgets": {},
          "nuid": "0f40f468-c520-482e-9e25-a2acbfd304e0"
        },
        "microsoft": {
          "language": "sparksql"
        },
        "collapsed": false
      }
    },
    {
      "cell_type": "code",
      "source": [
        "%%sql\n",
        "-- join clicks and products view\n",
        "select s.*, p.ProductName as product_name\n",
        "                     from vw_clicks s \n",
        "                     left join vw_Products p on s.product = p.ProductId limit 10"
      ],
      "outputs": [
        {
          "output_type": "display_data",
          "data": {
            "application/vnd.livy.statement-meta+json": {
              "spark_pool": "SparkNB",
              "session_id": 0,
              "statement_id": 17,
              "state": "finished",
              "livy_statement_state": "available",
              "queued_time": "2022-05-01T23:56:12.3020307Z",
              "session_start_time": null,
              "execution_start_time": "2022-05-01T23:56:14.5533276Z",
              "execution_finish_time": "2022-05-01T23:56:16.4393744Z"
            },
            "text/plain": "StatementMeta(SparkNB, 0, 17, Finished, Available)"
          },
          "metadata": {}
        },
        {
          "output_type": "execute_result",
          "execution_count": 18,
          "data": {
            "application/vnd.synapse.sparksql-result+json": {
              "schema": {
                "type": "struct",
                "fields": [
                  {
                    "name": "id",
                    "type": "double",
                    "nullable": true,
                    "metadata": {}
                  },
                  {
                    "name": "click",
                    "type": "integer",
                    "nullable": true,
                    "metadata": {}
                  },
                  {
                    "name": "hour",
                    "type": "integer",
                    "nullable": true,
                    "metadata": {}
                  },
                  {
                    "name": "C1",
                    "type": "integer",
                    "nullable": true,
                    "metadata": {}
                  },
                  {
                    "name": "banner_pos",
                    "type": "integer",
                    "nullable": true,
                    "metadata": {}
                  },
                  {
                    "name": "site_id",
                    "type": "string",
                    "nullable": true,
                    "metadata": {}
                  },
                  {
                    "name": "site_domain",
                    "type": "string",
                    "nullable": true,
                    "metadata": {}
                  },
                  {
                    "name": "site_category",
                    "type": "string",
                    "nullable": true,
                    "metadata": {}
                  },
                  {
                    "name": "product",
                    "type": "string",
                    "nullable": true,
                    "metadata": {}
                  },
                  {
                    "name": "app_id",
                    "type": "string",
                    "nullable": true,
                    "metadata": {}
                  },
                  {
                    "name": "app_domain",
                    "type": "string",
                    "nullable": true,
                    "metadata": {}
                  },
                  {
                    "name": "app_category",
                    "type": "string",
                    "nullable": true,
                    "metadata": {}
                  },
                  {
                    "name": "device_id",
                    "type": "string",
                    "nullable": true,
                    "metadata": {}
                  },
                  {
                    "name": "device_ip",
                    "type": "string",
                    "nullable": true,
                    "metadata": {}
                  },
                  {
                    "name": "device_model",
                    "type": "string",
                    "nullable": true,
                    "metadata": {}
                  },
                  {
                    "name": "device_type",
                    "type": "integer",
                    "nullable": true,
                    "metadata": {}
                  },
                  {
                    "name": "device_conn_type",
                    "type": "integer",
                    "nullable": true,
                    "metadata": {}
                  },
                  {
                    "name": "C14",
                    "type": "integer",
                    "nullable": true,
                    "metadata": {}
                  },
                  {
                    "name": "C15",
                    "type": "integer",
                    "nullable": true,
                    "metadata": {}
                  },
                  {
                    "name": "C16",
                    "type": "integer",
                    "nullable": true,
                    "metadata": {}
                  },
                  {
                    "name": "C17",
                    "type": "integer",
                    "nullable": true,
                    "metadata": {}
                  },
                  {
                    "name": "C18",
                    "type": "integer",
                    "nullable": true,
                    "metadata": {}
                  },
                  {
                    "name": "C19",
                    "type": "integer",
                    "nullable": true,
                    "metadata": {}
                  },
                  {
                    "name": "C20",
                    "type": "integer",
                    "nullable": true,
                    "metadata": {}
                  },
                  {
                    "name": "C21",
                    "type": "integer",
                    "nullable": true,
                    "metadata": {}
                  },
                  {
                    "name": "product_name",
                    "type": "string",
                    "nullable": true,
                    "metadata": {}
                  }
                ]
              },
              "data": [
                [
                  1000000000000000000,
                  0,
                  14102100,
                  1005,
                  0,
                  "1fbe01fe",
                  "f3845767",
                  "28905ebd",
                  "M0010",
                  "ecad2386",
                  "7801e8d9",
                  "07d7df22",
                  "a99f214a",
                  "ddd2926e",
                  "44956a24",
                  1,
                  2,
                  15706,
                  320,
                  50,
                  1722,
                  0,
                  35,
                  -1,
                  79,
                  "CarAudioUnit"
                ],
                [
                  10000000000000000000,
                  0,
                  14102100,
                  1005,
                  0,
                  "1fbe01fe",
                  "f3845767",
                  "28905ebd",
                  "M0010",
                  "ecad2386",
                  "7801e8d9",
                  "07d7df22",
                  "a99f214a",
                  "96809ac8",
                  "711ee120",
                  1,
                  0,
                  15704,
                  320,
                  50,
                  1722,
                  0,
                  35,
                  100084,
                  79,
                  "CarAudioUnit"
                ],
                [
                  10000000000000000000,
                  0,
                  14102100,
                  1005,
                  0,
                  "1fbe01fe",
                  "f3845767",
                  "28905ebd",
                  "M0010",
                  "ecad2386",
                  "7801e8d9",
                  "07d7df22",
                  "a99f214a",
                  "b3cf8def",
                  "8a4875bd",
                  1,
                  0,
                  15704,
                  320,
                  50,
                  1722,
                  0,
                  35,
                  100084,
                  79,
                  "CarAudioUnit"
                ],
                [
                  10000000000000000000,
                  0,
                  14102100,
                  1005,
                  0,
                  "1fbe01fe",
                  "f3845767",
                  "28905ebd",
                  "M0010",
                  "ecad2386",
                  "7801e8d9",
                  "07d7df22",
                  "a99f214a",
                  "e8275b8f",
                  "6332421a",
                  1,
                  0,
                  15706,
                  320,
                  50,
                  1722,
                  0,
                  35,
                  100084,
                  79,
                  "CarAudioUnit"
                ],
                [
                  10000000000000000000,
                  0,
                  14102100,
                  1005,
                  1,
                  "fe8cc448",
                  "9166c161",
                  "0569f928",
                  "M0008",
                  "ecad2386",
                  "7801e8d9",
                  "07d7df22",
                  "a99f214a",
                  "9644d0bf",
                  "779d90c2",
                  1,
                  0,
                  18993,
                  320,
                  50,
                  2161,
                  0,
                  35,
                  -1,
                  157,
                  "HighEndCabinet"
                ],
                [
                  10000000000000000000,
                  0,
                  14102100,
                  1005,
                  0,
                  "d6137915",
                  "bb1ef334",
                  "f028772b",
                  "D0002",
                  "ecad2386",
                  "7801e8d9",
                  "07d7df22",
                  "a99f214a",
                  "05241af0",
                  "8a4875bd",
                  1,
                  0,
                  16920,
                  320,
                  50,
                  1899,
                  0,
                  431,
                  100077,
                  117,
                  "Cabinet"
                ],
                [
                  10000000000000000000,
                  0,
                  14102100,
                  1005,
                  0,
                  "8fda644b",
                  "25d4cfcd",
                  "f028772b",
                  "D0002",
                  "ecad2386",
                  "7801e8d9",
                  "07d7df22",
                  "a99f214a",
                  "b264c159",
                  "be6db1d7",
                  1,
                  0,
                  20362,
                  320,
                  50,
                  2333,
                  0,
                  39,
                  -1,
                  157,
                  "Cabinet"
                ],
                [
                  10000000000000000000,
                  0,
                  14102100,
                  1005,
                  1,
                  "e151e245",
                  "7e091613",
                  "f028772b",
                  "D0002",
                  "ecad2386",
                  "7801e8d9",
                  "07d7df22",
                  "a99f214a",
                  "e6f67278",
                  "be74e6fe",
                  1,
                  0,
                  20632,
                  320,
                  50,
                  2374,
                  3,
                  39,
                  -1,
                  23,
                  "Cabinet"
                ],
                [
                  10000000000000000000,
                  1,
                  14102100,
                  1005,
                  0,
                  "1fbe01fe",
                  "f3845767",
                  "28905ebd",
                  "M0010",
                  "ecad2386",
                  "7801e8d9",
                  "07d7df22",
                  "a99f214a",
                  "37e8da74",
                  "5db079b5",
                  1,
                  2,
                  15707,
                  320,
                  50,
                  1722,
                  0,
                  35,
                  -1,
                  79,
                  "CarAudioUnit"
                ],
                [
                  10000000000000000000,
                  0,
                  14102100,
                  1002,
                  0,
                  "84c7ba46",
                  "c4e18dd6",
                  "50e219e0",
                  "M0001",
                  "ecad2386",
                  "7801e8d9",
                  "07d7df22",
                  "c357dbff",
                  "f1ac7184",
                  "373ecbe6",
                  0,
                  0,
                  21689,
                  320,
                  50,
                  2496,
                  3,
                  167,
                  100191,
                  23,
                  "WiringHarness"
                ]
              ]
            },
            "text/plain": "<Spark SQL result set with 10 rows and 26 fields>"
          },
          "metadata": {}
        }
      ],
      "execution_count": 18,
      "metadata": {
        "application/vnd.databricks.v1+cell": {
          "title": "",
          "showTitle": false,
          "inputWidgets": {},
          "nuid": "d8903a4d-df20-4ef0-b260-8e24b50ca097"
        },
        "microsoft": {
          "language": "sparksql"
        },
        "collapsed": false
      }
    },
    {
      "cell_type": "markdown",
      "source": [
        "Next lets do some Exploratory Data Analysis, that is analyse relationships between features, to get a sense of what could be influencing someone clicking an ad."
      ],
      "metadata": {
        "application/vnd.databricks.v1+cell": {
          "title": "Exploratory Data Analysis",
          "showTitle": true,
          "inputWidgets": {},
          "nuid": "0201e904-0abf-4eff-8b9a-c65764599a75"
        }
      }
    },
    {
      "cell_type": "code",
      "source": [
        "%%sql \n",
        "-- different banner positions of ads. Where they are placed on a page. We can see 8 types\n",
        "select banner_pos, count(1)\n",
        "from vw_clicks\n",
        "group by 1 order by 1"
      ],
      "outputs": [
        {
          "output_type": "display_data",
          "data": {
            "application/vnd.livy.statement-meta+json": {
              "spark_pool": "SparkNB",
              "session_id": 0,
              "statement_id": 18,
              "state": "finished",
              "livy_statement_state": "available",
              "queued_time": "2022-05-01T23:56:12.4915544Z",
              "session_start_time": null,
              "execution_start_time": "2022-05-01T23:56:16.5380774Z",
              "execution_finish_time": "2022-05-01T23:56:20.4604588Z"
            },
            "text/plain": "StatementMeta(SparkNB, 0, 18, Finished, Available)"
          },
          "metadata": {}
        },
        {
          "output_type": "execute_result",
          "execution_count": 19,
          "data": {
            "application/vnd.synapse.sparksql-result+json": {
              "schema": {
                "type": "struct",
                "fields": [
                  {
                    "name": "banner_pos",
                    "type": "integer",
                    "nullable": true,
                    "metadata": {}
                  },
                  {
                    "name": "count(1)",
                    "type": "long",
                    "nullable": false,
                    "metadata": {}
                  }
                ]
              },
              "data": [
                [
                  0,
                  "815396"
                ],
                [
                  1,
                  "230987"
                ],
                [
                  2,
                  "349"
                ],
                [
                  3,
                  "2"
                ],
                [
                  4,
                  "50"
                ],
                [
                  5,
                  "1638"
                ],
                [
                  7,
                  "153"
                ]
              ]
            },
            "text/plain": "<Spark SQL result set with 7 rows and 2 fields>"
          },
          "metadata": {}
        }
      ],
      "execution_count": 19,
      "metadata": {
        "application/vnd.databricks.v1+cell": {
          "title": "Banner position",
          "showTitle": true,
          "inputWidgets": {},
          "nuid": "dc8c9a4d-70ca-4fd7-82e0-f0d4321e9917"
        },
        "microsoft": {
          "language": "sparksql"
        },
        "collapsed": false
      }
    },
    {
      "cell_type": "code",
      "source": [
        "%%sql \n",
        "-- total number of clicks vs no clicks for each banner pos\n",
        "select banner_pos,\n",
        "sum(case when click = 1 then 1 else 0 end) as click,\n",
        "sum(case when click = 0 then 1 else 0 end) as no_click\n",
        "from vw_clicks group by 1 order by 1"
      ],
      "outputs": [
        {
          "output_type": "display_data",
          "data": {
            "application/vnd.livy.statement-meta+json": {
              "spark_pool": "SparkNB",
              "session_id": 0,
              "statement_id": 19,
              "state": "finished",
              "livy_statement_state": "available",
              "queued_time": "2022-05-01T23:56:12.6794637Z",
              "session_start_time": null,
              "execution_start_time": "2022-05-01T23:56:20.5681362Z",
              "execution_finish_time": "2022-05-01T23:56:23.3759191Z"
            },
            "text/plain": "StatementMeta(SparkNB, 0, 19, Finished, Available)"
          },
          "metadata": {}
        },
        {
          "output_type": "execute_result",
          "execution_count": 20,
          "data": {
            "application/vnd.synapse.sparksql-result+json": {
              "schema": {
                "type": "struct",
                "fields": [
                  {
                    "name": "banner_pos",
                    "type": "integer",
                    "nullable": true,
                    "metadata": {}
                  },
                  {
                    "name": "click",
                    "type": "long",
                    "nullable": true,
                    "metadata": {}
                  },
                  {
                    "name": "no_click",
                    "type": "long",
                    "nullable": true,
                    "metadata": {}
                  }
                ]
              },
              "data": [
                [
                  0,
                  "123062",
                  "692334"
                ],
                [
                  1,
                  "44231",
                  "186756"
                ],
                [
                  2,
                  "49",
                  "300"
                ],
                [
                  3,
                  "0",
                  "2"
                ],
                [
                  4,
                  "7",
                  "43"
                ],
                [
                  5,
                  "139",
                  "1499"
                ],
                [
                  7,
                  "10",
                  "143"
                ]
              ]
            },
            "text/plain": "<Spark SQL result set with 7 rows and 3 fields>"
          },
          "metadata": {}
        }
      ],
      "execution_count": 20,
      "metadata": {
        "application/vnd.databricks.v1+cell": {
          "title": "",
          "showTitle": false,
          "inputWidgets": {},
          "nuid": "ff137367-261a-4a24-b8db-c0279a07b6f2"
        },
        "microsoft": {
          "language": "sparksql"
        },
        "collapsed": false
      }
    },
    {
      "cell_type": "code",
      "source": [
        "%%sql \n",
        "-- CTR is the number of clicks that your ad receives divided by the number of times that your ad is shown: clicks ÷ impressions = CTR\n",
        "-- CTR value for each banner pos. Number 3 is empty which means that position is never clicked. It could be faulty data too. Number is haighest CTR, so that is a popular one.\n",
        "select banner_pos,\n",
        "sum(case when click = 1 then 1 else 0 end) / (count(1) * 1.0) as CTR\n",
        "from vw_clicks group by 1 order by 1"
      ],
      "outputs": [
        {
          "output_type": "display_data",
          "data": {
            "application/vnd.livy.statement-meta+json": {
              "spark_pool": "SparkNB",
              "session_id": 0,
              "statement_id": 20,
              "state": "finished",
              "livy_statement_state": "available",
              "queued_time": "2022-05-01T23:56:13.4039188Z",
              "session_start_time": null,
              "execution_start_time": "2022-05-01T23:56:23.4730621Z",
              "execution_finish_time": "2022-05-01T23:56:26.2527027Z"
            },
            "text/plain": "StatementMeta(SparkNB, 0, 20, Finished, Available)"
          },
          "metadata": {}
        },
        {
          "output_type": "execute_result",
          "execution_count": 21,
          "data": {
            "application/vnd.synapse.sparksql-result+json": {
              "schema": {
                "type": "struct",
                "fields": [
                  {
                    "name": "banner_pos",
                    "type": "integer",
                    "nullable": true,
                    "metadata": {}
                  },
                  {
                    "name": "CTR",
                    "type": "decimal(38,17)",
                    "nullable": true,
                    "metadata": {}
                  }
                ]
              },
              "data": [
                [
                  0,
                  "0.15092298711301012"
                ],
                [
                  1,
                  "0.19148696679899735"
                ],
                [
                  2,
                  "0.14040114613180516"
                ],
                [
                  3,
                  "0E-17"
                ],
                [
                  4,
                  "0.14000000000000000"
                ],
                [
                  5,
                  "0.08485958485958486"
                ],
                [
                  7,
                  "0.06535947712418301"
                ]
              ]
            },
            "text/plain": "<Spark SQL result set with 7 rows and 2 fields>"
          },
          "metadata": {}
        }
      ],
      "execution_count": 21,
      "metadata": {
        "application/vnd.databricks.v1+cell": {
          "title": "CTR by banner pos",
          "showTitle": true,
          "inputWidgets": {},
          "nuid": "75e590a0-89d9-4947-9359-ce1a8fe15f62"
        },
        "microsoft": {
          "language": "sparksql"
        },
        "collapsed": false
      }
    },
    {
      "cell_type": "code",
      "source": [
        "%%sql \n",
        "-- different kinds of devices used\n",
        "-- Device type 1 is most used by people who visit the site. \n",
        "select device_type, count(1)\n",
        "from vw_clicks\n",
        "group by 1 order by 1"
      ],
      "outputs": [
        {
          "output_type": "display_data",
          "data": {
            "application/vnd.livy.statement-meta+json": {
              "spark_pool": "SparkNB",
              "session_id": 0,
              "statement_id": 21,
              "state": "finished",
              "livy_statement_state": "available",
              "queued_time": "2022-05-01T23:56:14.5283979Z",
              "session_start_time": null,
              "execution_start_time": "2022-05-01T23:56:26.3523031Z",
              "execution_finish_time": "2022-05-01T23:56:29.157397Z"
            },
            "text/plain": "StatementMeta(SparkNB, 0, 21, Finished, Available)"
          },
          "metadata": {}
        },
        {
          "output_type": "execute_result",
          "execution_count": 22,
          "data": {
            "application/vnd.synapse.sparksql-result+json": {
              "schema": {
                "type": "struct",
                "fields": [
                  {
                    "name": "device_type",
                    "type": "integer",
                    "nullable": true,
                    "metadata": {}
                  },
                  {
                    "name": "count(1)",
                    "type": "long",
                    "nullable": false,
                    "metadata": {}
                  }
                ]
              },
              "data": [
                [
                  0,
                  "32620"
                ],
                [
                  1,
                  "997101"
                ],
                [
                  4,
                  "17502"
                ],
                [
                  5,
                  "1352"
                ]
              ]
            },
            "text/plain": "<Spark SQL result set with 4 rows and 2 fields>"
          },
          "metadata": {}
        }
      ],
      "execution_count": 22,
      "metadata": {
        "application/vnd.databricks.v1+cell": {
          "title": "Device type",
          "showTitle": true,
          "inputWidgets": {},
          "nuid": "564c359a-755e-4dce-9ba5-d0c8d87415e1"
        },
        "microsoft": {
          "language": "sparksql"
        },
        "collapsed": false
      }
    },
    {
      "cell_type": "code",
      "source": [
        "%%sql \n",
        "-- total number of clicks vs no clicks for each device\n",
        "-- though device 1 is most used but has highest no clicks too\n",
        "select device_type,\n",
        "sum(case when click = 1 then 1 else 0 end) as click,\n",
        "sum(case when click = 0 then 1 else 0 end) as no_click\n",
        "from vw_clicks group by 1 order by 1"
      ],
      "outputs": [
        {
          "output_type": "display_data",
          "data": {
            "application/vnd.livy.statement-meta+json": {
              "spark_pool": "SparkNB",
              "session_id": 0,
              "statement_id": 22,
              "state": "finished",
              "livy_statement_state": "available",
              "queued_time": "2022-05-01T23:56:15.9255198Z",
              "session_start_time": null,
              "execution_start_time": "2022-05-01T23:56:29.2594405Z",
              "execution_finish_time": "2022-05-01T23:56:31.0801976Z"
            },
            "text/plain": "StatementMeta(SparkNB, 0, 22, Finished, Available)"
          },
          "metadata": {}
        },
        {
          "output_type": "execute_result",
          "execution_count": 23,
          "data": {
            "application/vnd.synapse.sparksql-result+json": {
              "schema": {
                "type": "struct",
                "fields": [
                  {
                    "name": "device_type",
                    "type": "integer",
                    "nullable": true,
                    "metadata": {}
                  },
                  {
                    "name": "click",
                    "type": "long",
                    "nullable": true,
                    "metadata": {}
                  },
                  {
                    "name": "no_click",
                    "type": "long",
                    "nullable": true,
                    "metadata": {}
                  }
                ]
              },
              "data": [
                [
                  0,
                  "7507",
                  "25113"
                ],
                [
                  1,
                  "158570",
                  "838531"
                ],
                [
                  4,
                  "1309",
                  "16193"
                ],
                [
                  5,
                  "112",
                  "1240"
                ]
              ]
            },
            "text/plain": "<Spark SQL result set with 4 rows and 3 fields>"
          },
          "metadata": {}
        }
      ],
      "execution_count": 23,
      "metadata": {
        "application/vnd.databricks.v1+cell": {
          "title": "",
          "showTitle": false,
          "inputWidgets": {},
          "nuid": "b886ba62-beef-4e9c-9a91-2e8c771f63cf"
        },
        "microsoft": {
          "language": "sparksql"
        },
        "collapsed": false
      }
    },
    {
      "cell_type": "code",
      "source": [
        "%%sql \n",
        "-- CTR value for each device type. Number 4 is least and Number 0 is highest, highest chances are with device 0. For number 4, maybe company should stop showing ads and save some money.\n",
        "select device_type,\n",
        "sum(case when click = 1 then 1 else 0 end) / (count(1) * 1.0) as CTR\n",
        "from vw_clicks group by 1 order by 1"
      ],
      "outputs": [
        {
          "output_type": "display_data",
          "data": {
            "application/vnd.livy.statement-meta+json": {
              "spark_pool": "SparkNB",
              "session_id": 0,
              "statement_id": 23,
              "state": "finished",
              "livy_statement_state": "available",
              "queued_time": "2022-05-01T23:56:16.6830347Z",
              "session_start_time": null,
              "execution_start_time": "2022-05-01T23:56:31.1818401Z",
              "execution_finish_time": "2022-05-01T23:56:33.0067916Z"
            },
            "text/plain": "StatementMeta(SparkNB, 0, 23, Finished, Available)"
          },
          "metadata": {}
        },
        {
          "output_type": "execute_result",
          "execution_count": 24,
          "data": {
            "application/vnd.synapse.sparksql-result+json": {
              "schema": {
                "type": "struct",
                "fields": [
                  {
                    "name": "device_type",
                    "type": "integer",
                    "nullable": true,
                    "metadata": {}
                  },
                  {
                    "name": "CTR",
                    "type": "decimal(38,17)",
                    "nullable": true,
                    "metadata": {}
                  }
                ]
              },
              "data": [
                [
                  0,
                  "0.23013488657265481"
                ],
                [
                  1,
                  "0.15903103095874941"
                ],
                [
                  4,
                  "0.07479145240543938"
                ],
                [
                  5,
                  "0.08284023668639053"
                ]
              ]
            },
            "text/plain": "<Spark SQL result set with 4 rows and 2 fields>"
          },
          "metadata": {}
        }
      ],
      "execution_count": 24,
      "metadata": {
        "application/vnd.databricks.v1+cell": {
          "title": "CTR by device type",
          "showTitle": true,
          "inputWidgets": {},
          "nuid": "38499200-2d36-4728-8c15-0241093ff450"
        },
        "microsoft": {
          "language": "sparksql"
        },
        "collapsed": false
      }
    },
    {
      "cell_type": "code",
      "source": [
        "%%sql \n",
        "-- product M0001 is really popular in this clickstream dataset. So customers are spending lot of time looking at that product. Next are D0002 and M0010.\n",
        "select product, count(1) as count\n",
        "from vw_clicks\n",
        "group by 1 having count > 200 order by count desc"
      ],
      "outputs": [
        {
          "output_type": "display_data",
          "data": {
            "application/vnd.livy.statement-meta+json": {
              "spark_pool": "SparkNB",
              "session_id": 0,
              "statement_id": 24,
              "state": "finished",
              "livy_statement_state": "available",
              "queued_time": "2022-05-01T23:56:17.2911781Z",
              "session_start_time": null,
              "execution_start_time": "2022-05-01T23:56:33.1001986Z",
              "execution_finish_time": "2022-05-01T23:56:35.84732Z"
            },
            "text/plain": "StatementMeta(SparkNB, 0, 24, Finished, Available)"
          },
          "metadata": {}
        },
        {
          "output_type": "execute_result",
          "execution_count": 25,
          "data": {
            "application/vnd.synapse.sparksql-result+json": {
              "schema": {
                "type": "struct",
                "fields": [
                  {
                    "name": "product",
                    "type": "string",
                    "nullable": true,
                    "metadata": {}
                  },
                  {
                    "name": "count",
                    "type": "long",
                    "nullable": false,
                    "metadata": {}
                  }
                ]
              },
              "data": [
                [
                  "M0001",
                  "381761"
                ],
                [
                  "D0002",
                  "273460"
                ],
                [
                  "M0010",
                  "271621"
                ],
                [
                  "M0007",
                  "77926"
                ],
                [
                  "D0003",
                  "9833"
                ],
                [
                  "M0002",
                  "7993"
                ],
                [
                  "M0003",
                  "7431"
                ],
                [
                  "L0001",
                  "4980"
                ],
                [
                  "M0008",
                  "4731"
                ],
                [
                  "M0013",
                  "4185"
                ],
                [
                  "M0014",
                  "2808"
                ],
                [
                  "M0009",
                  "579"
                ],
                [
                  "M0012",
                  "518"
                ],
                [
                  "D0001",
                  "389"
                ],
                [
                  "M0015",
                  "281"
                ]
              ]
            },
            "text/plain": "<Spark SQL result set with 15 rows and 2 fields>"
          },
          "metadata": {}
        }
      ],
      "execution_count": 25,
      "metadata": {
        "application/vnd.databricks.v1+cell": {
          "title": "Dynamics products",
          "showTitle": true,
          "inputWidgets": {},
          "nuid": "c7b0882e-a5a5-4e75-8ae3-9efebc1955ad"
        },
        "microsoft": {
          "language": "sparksql"
        },
        "collapsed": false
      }
    },
    {
      "cell_type": "code",
      "source": [
        "%%sql \n",
        "-- total number of clicks vs no clicks for each product\n",
        "-- M0010 gets the highest of clicks\n",
        "select product,\n",
        "sum(case when click = 1 then 1 else 0 end) as click,\n",
        "sum(case when click = 0 then 1 else 0 end) as no_click\n",
        "from vw_clicks group by 1 order by 3 desc"
      ],
      "outputs": [
        {
          "output_type": "display_data",
          "data": {
            "application/vnd.livy.statement-meta+json": {
              "spark_pool": "SparkNB",
              "session_id": 0,
              "statement_id": 25,
              "state": "finished",
              "livy_statement_state": "available",
              "queued_time": "2022-05-01T23:56:18.8627167Z",
              "session_start_time": null,
              "execution_start_time": "2022-05-01T23:56:35.9476466Z",
              "execution_finish_time": "2022-05-01T23:56:39.7213618Z"
            },
            "text/plain": "StatementMeta(SparkNB, 0, 25, Finished, Available)"
          },
          "metadata": {}
        },
        {
          "output_type": "execute_result",
          "execution_count": 26,
          "data": {
            "application/vnd.synapse.sparksql-result+json": {
              "schema": {
                "type": "struct",
                "fields": [
                  {
                    "name": "product",
                    "type": "string",
                    "nullable": true,
                    "metadata": {}
                  },
                  {
                    "name": "click",
                    "type": "long",
                    "nullable": true,
                    "metadata": {}
                  },
                  {
                    "name": "no_click",
                    "type": "long",
                    "nullable": true,
                    "metadata": {}
                  }
                ]
              },
              "data": [
                [
                  "M0001",
                  "40736",
                  "341025"
                ],
                [
                  "D0002",
                  "50178",
                  "223282"
                ],
                [
                  "M0010",
                  "55883",
                  "215738"
                ],
                [
                  "M0007",
                  "17439",
                  "60487"
                ],
                [
                  "D0003",
                  "224",
                  "9609"
                ],
                [
                  "M0002",
                  "307",
                  "7686"
                ],
                [
                  "M0003",
                  "795",
                  "6636"
                ],
                [
                  "M0008",
                  "138",
                  "4593"
                ],
                [
                  "L0001",
                  "641",
                  "4339"
                ],
                [
                  "M0013",
                  "672",
                  "3513"
                ],
                [
                  "M0014",
                  "320",
                  "2488"
                ],
                [
                  "M0012",
                  "30",
                  "488"
                ],
                [
                  "M0009",
                  "92",
                  "487"
                ],
                [
                  "D0001",
                  "0",
                  "389"
                ],
                [
                  "M0015",
                  "33",
                  "248"
                ],
                [
                  "M0005",
                  "3",
                  "22"
                ],
                [
                  "M0004",
                  "2",
                  "22"
                ],
                [
                  "M0011",
                  "1",
                  "11"
                ],
                [
                  "M0006",
                  "4",
                  "9"
                ],
                [
                  "M0017",
                  "0",
                  "4"
                ],
                [
                  "M0016",
                  "0",
                  "1"
                ]
              ]
            },
            "text/plain": "<Spark SQL result set with 21 rows and 3 fields>"
          },
          "metadata": {}
        }
      ],
      "execution_count": 26,
      "metadata": {
        "application/vnd.databricks.v1+cell": {
          "title": "",
          "showTitle": false,
          "inputWidgets": {},
          "nuid": "18254997-cd97-4d32-b488-f7c8a318f886"
        },
        "microsoft": {
          "language": "sparksql"
        },
        "collapsed": false
      }
    },
    {
      "cell_type": "code",
      "source": [
        "%%sql \n",
        "-- CTR of different products. M0006 has the highest CTR. % wise this product gets most clicks, 30%\n",
        "select product,\n",
        "sum(case when click = 1 then 1 else 0 end) / (count(1) * 1.0) as CTR\n",
        "from vw_clicks group by 1 order by 2 desc"
      ],
      "outputs": [
        {
          "output_type": "display_data",
          "data": {
            "application/vnd.livy.statement-meta+json": {
              "spark_pool": "SparkNB",
              "session_id": 0,
              "statement_id": 26,
              "state": "finished",
              "livy_statement_state": "available",
              "queued_time": "2022-05-01T23:56:19.2671809Z",
              "session_start_time": null,
              "execution_start_time": "2022-05-01T23:56:39.8378784Z",
              "execution_finish_time": "2022-05-01T23:56:42.8709267Z"
            },
            "text/plain": "StatementMeta(SparkNB, 0, 26, Finished, Available)"
          },
          "metadata": {}
        },
        {
          "output_type": "execute_result",
          "execution_count": 27,
          "data": {
            "application/vnd.synapse.sparksql-result+json": {
              "schema": {
                "type": "struct",
                "fields": [
                  {
                    "name": "product",
                    "type": "string",
                    "nullable": true,
                    "metadata": {}
                  },
                  {
                    "name": "CTR",
                    "type": "decimal(38,17)",
                    "nullable": true,
                    "metadata": {}
                  }
                ]
              },
              "data": [
                [
                  "M0006",
                  "0.30769230769230769"
                ],
                [
                  "M0007",
                  "0.22378923594179093"
                ],
                [
                  "M0010",
                  "0.20573887880539428"
                ],
                [
                  "D0002",
                  "0.18349301543187303"
                ],
                [
                  "M0013",
                  "0.16057347670250896"
                ],
                [
                  "M0009",
                  "0.15889464594127807"
                ],
                [
                  "L0001",
                  "0.12871485943775100"
                ],
                [
                  "M0005",
                  "0.12000000000000000"
                ],
                [
                  "M0015",
                  "0.11743772241992883"
                ],
                [
                  "M0014",
                  "0.11396011396011396"
                ],
                [
                  "M0003",
                  "0.10698425514735567"
                ],
                [
                  "M0001",
                  "0.10670550422908574"
                ],
                [
                  "M0004",
                  "0.08333333333333333"
                ],
                [
                  "M0011",
                  "0.08333333333333333"
                ],
                [
                  "M0012",
                  "0.05791505791505792"
                ],
                [
                  "M0002",
                  "0.03840860753159014"
                ],
                [
                  "M0008",
                  "0.02916930881420419"
                ],
                [
                  "D0003",
                  "0.02278043323502492"
                ],
                [
                  "M0017",
                  "0E-17"
                ],
                [
                  "M0016",
                  "0E-17"
                ],
                [
                  "D0001",
                  "0E-17"
                ]
              ]
            },
            "text/plain": "<Spark SQL result set with 21 rows and 2 fields>"
          },
          "metadata": {}
        }
      ],
      "execution_count": 27,
      "metadata": {
        "application/vnd.databricks.v1+cell": {
          "title": "CTR by product",
          "showTitle": true,
          "inputWidgets": {},
          "nuid": "3847ad1d-0365-40ee-86da-31694c8bd8ac"
        },
        "microsoft": {
          "language": "sparksql"
        },
        "collapsed": false
      }
    },
    {
      "cell_type": "code",
      "source": [
        "%%sql \n",
        "select substr(hour, 7) as hour, \n",
        "count(1)\n",
        "from vw_clicks \n",
        "group by 1 order by 1"
      ],
      "outputs": [
        {
          "output_type": "display_data",
          "data": {
            "application/vnd.livy.statement-meta+json": {
              "spark_pool": "SparkNB",
              "session_id": 0,
              "statement_id": 27,
              "state": "finished",
              "livy_statement_state": "available",
              "queued_time": "2022-05-01T23:56:20.0996376Z",
              "session_start_time": null,
              "execution_start_time": "2022-05-01T23:56:42.9691813Z",
              "execution_finish_time": "2022-05-01T23:56:44.8072828Z"
            },
            "text/plain": "StatementMeta(SparkNB, 0, 27, Finished, Available)"
          },
          "metadata": {}
        },
        {
          "output_type": "execute_result",
          "execution_count": 28,
          "data": {
            "application/vnd.synapse.sparksql-result+json": {
              "schema": {
                "type": "struct",
                "fields": [
                  {
                    "name": "hour",
                    "type": "string",
                    "nullable": true,
                    "metadata": {}
                  },
                  {
                    "name": "count(1)",
                    "type": "long",
                    "nullable": false,
                    "metadata": {}
                  }
                ]
              },
              "data": [
                [
                  "00",
                  "119006"
                ],
                [
                  "01",
                  "137442"
                ],
                [
                  "02",
                  "207471"
                ],
                [
                  "03",
                  "193355"
                ],
                [
                  "04",
                  "264711"
                ],
                [
                  "05",
                  "126590"
                ]
              ]
            },
            "text/plain": "<Spark SQL result set with 6 rows and 2 fields>"
          },
          "metadata": {}
        }
      ],
      "execution_count": 28,
      "metadata": {
        "application/vnd.databricks.v1+cell": {
          "title": "Hour of day",
          "showTitle": true,
          "inputWidgets": {},
          "nuid": "89d3df85-67df-4388-98f9-1a09a0966835"
        },
        "microsoft": {
          "language": "sparksql"
        },
        "collapsed": false
      }
    },
    {
      "cell_type": "code",
      "source": [
        "%%sql\n",
        "-- total number of clicks vs no clicks for hour of day\n",
        "select substr(hour, 7) as hour,\n",
        "sum(case when click = 1 then 1 else 0 end) as click,\n",
        "sum(case when click = 0 then 1 else 0 end) as no_click\n",
        "from vw_clicks group by 1 order by 1"
      ],
      "outputs": [
        {
          "output_type": "display_data",
          "data": {
            "application/vnd.livy.statement-meta+json": {
              "spark_pool": "SparkNB",
              "session_id": 0,
              "statement_id": 28,
              "state": "finished",
              "livy_statement_state": "available",
              "queued_time": "2022-05-01T23:56:21.2253381Z",
              "session_start_time": null,
              "execution_start_time": "2022-05-01T23:56:44.9225236Z",
              "execution_finish_time": "2022-05-01T23:56:48.1244114Z"
            },
            "text/plain": "StatementMeta(SparkNB, 0, 28, Finished, Available)"
          },
          "metadata": {}
        },
        {
          "output_type": "execute_result",
          "execution_count": 29,
          "data": {
            "application/vnd.synapse.sparksql-result+json": {
              "schema": {
                "type": "struct",
                "fields": [
                  {
                    "name": "hour",
                    "type": "string",
                    "nullable": true,
                    "metadata": {}
                  },
                  {
                    "name": "click",
                    "type": "long",
                    "nullable": true,
                    "metadata": {}
                  },
                  {
                    "name": "no_click",
                    "type": "long",
                    "nullable": true,
                    "metadata": {}
                  }
                ]
              },
              "data": [
                [
                  "00",
                  "20792",
                  "98214"
                ],
                [
                  "01",
                  "23873",
                  "113569"
                ],
                [
                  "02",
                  "31265",
                  "176206"
                ],
                [
                  "03",
                  "32830",
                  "160525"
                ],
                [
                  "04",
                  "40026",
                  "224685"
                ],
                [
                  "05",
                  "18712",
                  "107878"
                ]
              ]
            },
            "text/plain": "<Spark SQL result set with 6 rows and 3 fields>"
          },
          "metadata": {}
        }
      ],
      "execution_count": 29,
      "metadata": {
        "application/vnd.databricks.v1+cell": {
          "title": "",
          "showTitle": false,
          "inputWidgets": {},
          "nuid": "cd870fe6-ec94-4400-9cfc-771ace2af0da"
        },
        "microsoft": {
          "language": "sparksql"
        },
        "collapsed": false
      }
    },
    {
      "cell_type": "code",
      "source": [
        "%%sql \n",
        "select substr(hour, 7) as hour,\n",
        "sum(case when click = 1 then 1 else 0 end) / (count(1) * 1.0) as CTR\n",
        "from vw_clicks group by 1 order by 1"
      ],
      "outputs": [
        {
          "output_type": "display_data",
          "data": {
            "application/vnd.livy.statement-meta+json": {
              "spark_pool": "SparkNB",
              "session_id": 0,
              "statement_id": 29,
              "state": "finished",
              "livy_statement_state": "available",
              "queued_time": "2022-05-01T23:56:22.1217534Z",
              "session_start_time": null,
              "execution_start_time": "2022-05-01T23:56:48.2437701Z",
              "execution_finish_time": "2022-05-01T23:56:50.0598296Z"
            },
            "text/plain": "StatementMeta(SparkNB, 0, 29, Finished, Available)"
          },
          "metadata": {}
        },
        {
          "output_type": "execute_result",
          "execution_count": 30,
          "data": {
            "application/vnd.synapse.sparksql-result+json": {
              "schema": {
                "type": "struct",
                "fields": [
                  {
                    "name": "hour",
                    "type": "string",
                    "nullable": true,
                    "metadata": {}
                  },
                  {
                    "name": "CTR",
                    "type": "decimal(38,17)",
                    "nullable": true,
                    "metadata": {}
                  }
                ]
              },
              "data": [
                [
                  "00",
                  "0.17471387997243836"
                ],
                [
                  "01",
                  "0.17369508592715473"
                ],
                [
                  "02",
                  "0.15069575988933393"
                ],
                [
                  "03",
                  "0.16979131649039332"
                ],
                [
                  "04",
                  "0.15120641000940648"
                ],
                [
                  "05",
                  "0.14781578323722253"
                ]
              ]
            },
            "text/plain": "<Spark SQL result set with 6 rows and 2 fields>"
          },
          "metadata": {}
        }
      ],
      "execution_count": 30,
      "metadata": {
        "application/vnd.databricks.v1+cell": {
          "title": "CTR by hour of day",
          "showTitle": true,
          "inputWidgets": {},
          "nuid": "889839f0-71d5-44e2-80d6-ff462a152e70"
        },
        "microsoft": {
          "language": "sparksql"
        },
        "collapsed": false
      }
    },
    {
      "cell_type": "code",
      "source": [
        "%%sql \n",
        "\n",
        "select count(1) as total,\n",
        "\n",
        "count(distinct C1) as C1,\n",
        "count(distinct banner_pos) as banner_pos,\n",
        "count(distinct site_id) as site_id,\n",
        "count(distinct site_domain) as site_domain,\n",
        "count(distinct site_category) as site_category,\n",
        "count(distinct product) as product,\n",
        "count(distinct app_id) as app_id,\n",
        "count(distinct app_domain) as app_domain,\n",
        "count(distinct app_category) as app_category,\n",
        "count(distinct device_id) as device_id,\n",
        "count(distinct device_ip) as device_ip,\n",
        "count(distinct device_model) as device_model,\n",
        "count(distinct device_type) as device_type,\n",
        "count(distinct device_conn_type) as device_conn_type,\n",
        "count(distinct C14) as C14,\n",
        "count(distinct C15) as C15,\n",
        "count(distinct C16) as C16,\n",
        "count(distinct C17) as C17,\n",
        "count(distinct C18) as C18,\n",
        "count(distinct C19) as C19,\n",
        "count(distinct C20) as C20,\n",
        "count(distinct C21) as C21\n",
        "\n",
        "from vw_clicks"
      ],
      "outputs": [
        {
          "output_type": "display_data",
          "data": {
            "application/vnd.livy.statement-meta+json": {
              "spark_pool": "SparkNB",
              "session_id": 0,
              "statement_id": 30,
              "state": "finished",
              "livy_statement_state": "available",
              "queued_time": "2022-05-01T23:56:23.0885549Z",
              "session_start_time": null,
              "execution_start_time": "2022-05-01T23:56:50.1614733Z",
              "execution_finish_time": "2022-05-01T23:56:58.7842039Z"
            },
            "text/plain": "StatementMeta(SparkNB, 0, 30, Finished, Available)"
          },
          "metadata": {}
        },
        {
          "output_type": "execute_result",
          "execution_count": 31,
          "data": {
            "application/vnd.synapse.sparksql-result+json": {
              "schema": {
                "type": "struct",
                "fields": [
                  {
                    "name": "total",
                    "type": "long",
                    "nullable": false,
                    "metadata": {}
                  },
                  {
                    "name": "C1",
                    "type": "long",
                    "nullable": false,
                    "metadata": {}
                  },
                  {
                    "name": "banner_pos",
                    "type": "long",
                    "nullable": false,
                    "metadata": {}
                  },
                  {
                    "name": "site_id",
                    "type": "long",
                    "nullable": false,
                    "metadata": {}
                  },
                  {
                    "name": "site_domain",
                    "type": "long",
                    "nullable": false,
                    "metadata": {}
                  },
                  {
                    "name": "site_category",
                    "type": "long",
                    "nullable": false,
                    "metadata": {}
                  },
                  {
                    "name": "product",
                    "type": "long",
                    "nullable": false,
                    "metadata": {}
                  },
                  {
                    "name": "app_id",
                    "type": "long",
                    "nullable": false,
                    "metadata": {}
                  },
                  {
                    "name": "app_domain",
                    "type": "long",
                    "nullable": false,
                    "metadata": {}
                  },
                  {
                    "name": "app_category",
                    "type": "long",
                    "nullable": false,
                    "metadata": {}
                  },
                  {
                    "name": "device_id",
                    "type": "long",
                    "nullable": false,
                    "metadata": {}
                  },
                  {
                    "name": "device_ip",
                    "type": "long",
                    "nullable": false,
                    "metadata": {}
                  },
                  {
                    "name": "device_model",
                    "type": "long",
                    "nullable": false,
                    "metadata": {}
                  },
                  {
                    "name": "device_type",
                    "type": "long",
                    "nullable": false,
                    "metadata": {}
                  },
                  {
                    "name": "device_conn_type",
                    "type": "long",
                    "nullable": false,
                    "metadata": {}
                  },
                  {
                    "name": "C14",
                    "type": "long",
                    "nullable": false,
                    "metadata": {}
                  },
                  {
                    "name": "C15",
                    "type": "long",
                    "nullable": false,
                    "metadata": {}
                  },
                  {
                    "name": "C16",
                    "type": "long",
                    "nullable": false,
                    "metadata": {}
                  },
                  {
                    "name": "C17",
                    "type": "long",
                    "nullable": false,
                    "metadata": {}
                  },
                  {
                    "name": "C18",
                    "type": "long",
                    "nullable": false,
                    "metadata": {}
                  },
                  {
                    "name": "C19",
                    "type": "long",
                    "nullable": false,
                    "metadata": {}
                  },
                  {
                    "name": "C20",
                    "type": "long",
                    "nullable": false,
                    "metadata": {}
                  },
                  {
                    "name": "C21",
                    "type": "long",
                    "nullable": false,
                    "metadata": {}
                  }
                ]
              },
              "data": [
                [
                  "1048575",
                  "7",
                  "7",
                  "2106",
                  "2064",
                  "21",
                  "21",
                  "2360",
                  "159",
                  "23",
                  "87398",
                  "325275",
                  "4619",
                  "4",
                  "4",
                  "608",
                  "8",
                  "9",
                  "162",
                  "4",
                  "41",
                  "162",
                  "35"
                ]
              ]
            },
            "text/plain": "<Spark SQL result set with 1 rows and 23 fields>"
          },
          "metadata": {}
        }
      ],
      "execution_count": 31,
      "metadata": {
        "application/vnd.databricks.v1+cell": {
          "title": "cardinality of distinct column values",
          "showTitle": true,
          "inputWidgets": {},
          "nuid": "a782978c-c852-4908-bf3e-ec7a6c2a2d5a"
        },
        "microsoft": {
          "language": "sparksql"
        },
        "collapsed": false
      }
    },
    {
      "cell_type": "code",
      "source": [
        "display(df_clicks.describe())"
      ],
      "outputs": [
        {
          "output_type": "display_data",
          "data": {
            "application/vnd.livy.statement-meta+json": {
              "spark_pool": "SparkNB",
              "session_id": 0,
              "statement_id": 31,
              "state": "finished",
              "livy_statement_state": "available",
              "queued_time": "2022-05-01T23:56:24.4614391Z",
              "session_start_time": null,
              "execution_start_time": "2022-05-01T23:56:58.8713942Z",
              "execution_finish_time": "2022-05-01T23:57:11.6271882Z"
            },
            "text/plain": "StatementMeta(SparkNB, 0, 31, Finished, Available)"
          },
          "metadata": {}
        },
        {
          "output_type": "display_data",
          "data": {
            "application/vnd.synapse.widget-view+json": {
              "widget_id": "0e5dbd35-4c34-44ac-80bd-77aea980f8cf",
              "widget_type": "Synapse.DataFrame"
            },
            "text/plain": "SynapseWidget(Synapse.DataFrame, 0e5dbd35-4c34-44ac-80bd-77aea980f8cf)"
          },
          "metadata": {}
        }
      ],
      "execution_count": 32,
      "metadata": {
        "application/vnd.databricks.v1+cell": {
          "title": "",
          "showTitle": false,
          "inputWidgets": {},
          "nuid": "d0f36542-08b5-4b23-b7c9-dd9658d5b63e"
        },
        "collapsed": false
      }
    },
    {
      "cell_type": "code",
      "source": [
        "# Drop site_category column\n",
        "# we have 1 to 1 mapping with our product column so its highly correlated. We want to avoid correlation and use features that have no bearing on each other to get the best prediction.\n",
        "df_clicks1 = df_clicks.drop('site_category')\n",
        "df_clicks1.printSchema()"
      ],
      "outputs": [
        {
          "output_type": "display_data",
          "data": {
            "application/vnd.livy.statement-meta+json": {
              "spark_pool": "SparkNB",
              "session_id": 0,
              "statement_id": 32,
              "state": "finished",
              "livy_statement_state": "available",
              "queued_time": "2022-05-01T23:56:25.1131444Z",
              "session_start_time": null,
              "execution_start_time": "2022-05-01T23:57:11.725578Z",
              "execution_finish_time": "2022-05-01T23:57:11.8801173Z"
            },
            "text/plain": "StatementMeta(SparkNB, 0, 32, Finished, Available)"
          },
          "metadata": {}
        },
        {
          "output_type": "stream",
          "name": "stdout",
          "text": [
            "root\n |-- id: double (nullable = true)\n |-- click: integer (nullable = true)\n |-- hour: integer (nullable = true)\n |-- C1: integer (nullable = true)\n |-- banner_pos: integer (nullable = true)\n |-- site_id: string (nullable = true)\n |-- site_domain: string (nullable = true)\n |-- product: string (nullable = true)\n |-- app_id: string (nullable = true)\n |-- app_domain: string (nullable = true)\n |-- app_category: string (nullable = true)\n |-- device_id: string (nullable = true)\n |-- device_ip: string (nullable = true)\n |-- device_model: string (nullable = true)\n |-- device_type: integer (nullable = true)\n |-- device_conn_type: integer (nullable = true)\n |-- C14: integer (nullable = true)\n |-- C15: integer (nullable = true)\n |-- C16: integer (nullable = true)\n |-- C17: integer (nullable = true)\n |-- C18: integer (nullable = true)\n |-- C19: integer (nullable = true)\n |-- C20: integer (nullable = true)\n |-- C21: integer (nullable = true)"
          ]
        }
      ],
      "execution_count": 33,
      "metadata": {
        "application/vnd.databricks.v1+cell": {
          "title": "",
          "showTitle": false,
          "inputWidgets": {},
          "nuid": "d88c1569-0d6c-43f9-a1cd-c58c2775f95c"
        }
      }
    },
    {
      "cell_type": "code",
      "source": [
        "# extract exact hour from hour column into a new hr column\n",
        "# we will add hr as a new feature\n",
        "df_clicks1 =  df_clicks1.selectExpr(\"*\",\n",
        "    'substr(hour, 7) as hr')\n",
        "\n",
        "display(df_clicks1.limit(10))"
      ],
      "outputs": [
        {
          "output_type": "display_data",
          "data": {
            "application/vnd.livy.statement-meta+json": {
              "spark_pool": "SparkNB",
              "session_id": 0,
              "statement_id": 33,
              "state": "finished",
              "livy_statement_state": "available",
              "queued_time": "2022-05-01T23:56:26.0956537Z",
              "session_start_time": null,
              "execution_start_time": "2022-05-01T23:57:11.9852017Z",
              "execution_finish_time": "2022-05-01T23:57:18.9003061Z"
            },
            "text/plain": "StatementMeta(SparkNB, 0, 33, Finished, Available)"
          },
          "metadata": {}
        },
        {
          "output_type": "display_data",
          "data": {
            "application/vnd.synapse.widget-view+json": {
              "widget_id": "6b200176-e177-4180-bf51-bd4655f1f85e",
              "widget_type": "Synapse.DataFrame"
            },
            "text/plain": "SynapseWidget(Synapse.DataFrame, 6b200176-e177-4180-bf51-bd4655f1f85e)"
          },
          "metadata": {}
        }
      ],
      "execution_count": 34,
      "metadata": {
        "application/vnd.databricks.v1+cell": {
          "title": "",
          "showTitle": false,
          "inputWidgets": {},
          "nuid": "c2fcd97a-596e-4e6c-9516-e8829c385b8a"
        },
        "collapsed": false
      }
    },
    {
      "cell_type": "code",
      "source": [
        "from pyspark.sql.functions import *\n",
        "\n",
        "strCols = map(lambda t: t[0], __builtin__.filter(lambda t: t[1] == 'string', df_clicks1.dtypes))\n",
        "intCols = map(lambda t: t[0], __builtin__.filter(lambda t: t[1] == 'int', df_clicks1.dtypes))\n",
        "\n",
        "# [row_idx][json_idx]\n",
        "strColsCount = sorted(map(lambda c: (c, df_clicks1.select(countDistinct(c)).collect()[0][0]), strCols), key=lambda x: x[1], reverse=True)\n",
        "intColsCount = sorted(map(lambda c: (c, df_clicks1.select(countDistinct(c)).collect()[0][0]), intCols), key=lambda x: x[1], reverse=True)"
      ],
      "outputs": [
        {
          "output_type": "display_data",
          "data": {
            "application/vnd.livy.statement-meta+json": {
              "spark_pool": "SparkNB",
              "session_id": 0,
              "statement_id": 34,
              "state": "finished",
              "livy_statement_state": "available",
              "queued_time": "2022-05-01T23:56:27.8445011Z",
              "session_start_time": null,
              "execution_start_time": "2022-05-01T23:57:19.0287434Z",
              "execution_finish_time": "2022-05-01T23:57:54.5918499Z"
            },
            "text/plain": "StatementMeta(SparkNB, 0, 34, Finished, Available)"
          },
          "metadata": {}
        }
      ],
      "execution_count": 35,
      "metadata": {
        "application/vnd.databricks.v1+cell": {
          "title": "Number of distinct values per column",
          "showTitle": true,
          "inputWidgets": {},
          "nuid": "72269b84-599a-4e78-92f8-595e5b605d32"
        }
      }
    },
    {
      "cell_type": "code",
      "source": [
        "# distinct counts for str columns\n",
        "display(strColsCount)"
      ],
      "outputs": [
        {
          "output_type": "display_data",
          "data": {
            "application/vnd.livy.statement-meta+json": {
              "spark_pool": "SparkNB",
              "session_id": 0,
              "statement_id": 35,
              "state": "finished",
              "livy_statement_state": "available",
              "queued_time": "2022-05-01T23:56:28.1447942Z",
              "session_start_time": null,
              "execution_start_time": "2022-05-01T23:57:54.7189468Z",
              "execution_finish_time": "2022-05-01T23:58:00.3845276Z"
            },
            "text/plain": "StatementMeta(SparkNB, 0, 35, Finished, Available)"
          },
          "metadata": {}
        },
        {
          "output_type": "display_data",
          "data": {
            "application/vnd.synapse.widget-view+json": {
              "widget_id": "fcd04bbf-ee7a-45c7-a920-974605d69752",
              "widget_type": "Synapse.DataFrame"
            },
            "text/plain": "SynapseWidget(Synapse.DataFrame, fcd04bbf-ee7a-45c7-a920-974605d69752)"
          },
          "metadata": {}
        }
      ],
      "execution_count": 36,
      "metadata": {
        "application/vnd.databricks.v1+cell": {
          "title": "",
          "showTitle": false,
          "inputWidgets": {},
          "nuid": "0786b3a6-666f-4ca5-955b-e5a563195949"
        },
        "collapsed": false
      }
    },
    {
      "cell_type": "code",
      "source": [
        "# distinct counts for int columns\n",
        "display(intColsCount)"
      ],
      "outputs": [
        {
          "output_type": "display_data",
          "data": {
            "application/vnd.livy.statement-meta+json": {
              "spark_pool": "SparkNB",
              "session_id": 0,
              "statement_id": 36,
              "state": "finished",
              "livy_statement_state": "available",
              "queued_time": "2022-05-01T23:56:29.1293852Z",
              "session_start_time": null,
              "execution_start_time": "2022-05-01T23:58:00.5315418Z",
              "execution_finish_time": "2022-05-01T23:58:01.0519194Z"
            },
            "text/plain": "StatementMeta(SparkNB, 0, 36, Finished, Available)"
          },
          "metadata": {}
        },
        {
          "output_type": "display_data",
          "data": {
            "application/vnd.synapse.widget-view+json": {
              "widget_id": "9484eedf-d063-4765-9703-66e345c8348d",
              "widget_type": "Synapse.DataFrame"
            },
            "text/plain": "SynapseWidget(Synapse.DataFrame, 9484eedf-d063-4765-9703-66e345c8348d)"
          },
          "metadata": {}
        }
      ],
      "execution_count": 37,
      "metadata": {
        "application/vnd.databricks.v1+cell": {
          "title": "",
          "showTitle": false,
          "inputWidgets": {},
          "nuid": "02388606-4406-4499-878c-938eed784c13"
        },
        "collapsed": false
      }
    },
    {
      "cell_type": "markdown",
      "source": [
        "Below code is taken from databricks’ official site and it indexes each categorical column using the StringIndexer, then converts the indexed categories into one-hot encoded variables. The resulting output has the binary vectors appended to the end of each row. We use the StringIndexer again to encode our labels to label indices. Next, we use the VectorAssembler to combine all the feature columns into a single vector column.\n",
        "\n",
        "Once we have familiarized ourselves with our data, we proceed to the machine learning phase, where we convert our data into features for input to a machine learning algorithm and produce a trained model with which we can predict. Because Spark MLlib algorithms take a column of feature vectors of doubles as input, a typical feature engineering workflow includes:\n",
        "\n",
        "1. Identifying numeric and categorical features\n",
        "2. String indexing\n",
        "3. Assembling them all into a sparse vector\n",
        "\n",
        "In our use of GBTClassifer, while we use string indexer but we are not applying One Hot Encoder (OHE).\n",
        "\n",
        "When using StringIndexer, categorical features are kept as k-ary categorical features. A tree node will test if feature X has a value in {subset of categories}. With both StringIndexer + OHE: Your categorical features are turned into a bunch of binary features. A tree node will test if feature X = category a vs. all the other categories (one vs. rest test).\n",
        "\n",
        "When using only StringIndexer, the benefits include:\n",
        "\n",
        "1. There are fewer features to choose\n",
        "2. Each node’s test is more expressive than with binary 1-vs-rest features\n",
        "\n",
        "Therefore, for tree based methods, it is preferable to not use OHE as it is a less expressive test and it takes up more space. But for non-tree-based algorithms such as like linear regression, you must use OHE or else the model will impose a false and misleading ordering on categories."
      ],
      "metadata": {
        "application/vnd.databricks.v1+cell": {
          "title": "StringIndexer and VectorAssembler",
          "showTitle": true,
          "inputWidgets": {},
          "nuid": "24b9a9cf-a15e-4108-aa00-82aa369e6936"
        }
      }
    },
    {
      "cell_type": "code",
      "source": [
        "# Include PySpark Feature Engineering methods\n",
        "from pyspark.ml.feature import StringIndexer, VectorAssembler\n",
        "\n",
        "# All of the columns (string or integer) are categorical columns\n",
        "#  except for the [click] column\n",
        "maxBins = 70\n",
        "categorical = list(map(lambda c: c[0], __builtin__.filter(lambda c: c[1] <= maxBins, strColsCount)))\n",
        "categorical += list(map(lambda c: c[0], __builtin__.filter(lambda c: c[1] <= maxBins, intColsCount)))\n",
        "categorical.remove('click')\n",
        "\n",
        "# Apply string indexer to all of the categorical columns\n",
        "#  And add _idx to the column name to indicate the index of the categorical value\n",
        "stringIndexers = list(map(lambda c: StringIndexer(inputCol = c, outputCol = c + \"_idx\"), categorical))\n",
        "\n",
        "# Assemble the put as the input to the VectorAssembler \n",
        "#   with the output being our features\n",
        "assemblerInputs = list(map(lambda c: c + \"_idx\", categorical))\n",
        "vectorAssembler = VectorAssembler(inputCols = assemblerInputs, outputCol = \"features\")\n",
        "\n",
        "# The [click] column is our label \n",
        "labelStringIndexer = StringIndexer(inputCol = \"click\", outputCol = \"label\")\n",
        "\n",
        "# The stages of our ML pipeline \n",
        "stages = stringIndexers + [vectorAssembler, labelStringIndexer]"
      ],
      "outputs": [
        {
          "output_type": "display_data",
          "data": {
            "application/vnd.livy.statement-meta+json": {
              "spark_pool": "SparkNB",
              "session_id": 0,
              "statement_id": 37,
              "state": "finished",
              "livy_statement_state": "available",
              "queued_time": "2022-05-01T23:56:30.1783726Z",
              "session_start_time": null,
              "execution_start_time": "2022-05-01T23:58:01.1636708Z",
              "execution_finish_time": "2022-05-01T23:58:02.2298841Z"
            },
            "text/plain": "StatementMeta(SparkNB, 0, 37, Finished, Available)"
          },
          "metadata": {}
        }
      ],
      "execution_count": 38,
      "metadata": {
        "application/vnd.databricks.v1+cell": {
          "title": "Prepare features",
          "showTitle": true,
          "inputWidgets": {},
          "nuid": "66998894-5384-4772-9ec6-38933fef68d0"
        }
      }
    },
    {
      "cell_type": "markdown",
      "source": [
        "We use Pipeline to chain multiple Transformers and Estimators together to specify our machine learning workflow. A Pipeline’s stages are specified as an ordered array."
      ],
      "metadata": {
        "application/vnd.databricks.v1+cell": {
          "title": "Pipeline",
          "showTitle": true,
          "inputWidgets": {},
          "nuid": "ae1bba2b-16a5-4ffd-b38d-71a3ad20ad79"
        }
      }
    },
    {
      "cell_type": "code",
      "source": [
        "from pyspark.ml import Pipeline\n",
        "\n",
        "# Create our pipeline\n",
        "pipeline = Pipeline(stages = stages)\n",
        "\n",
        "# create transformer to add features\n",
        "featurizer = pipeline.fit(df_clicks1)\n",
        "\n",
        "# dataframe with feature and intermediate transformation columns appended\n",
        "featurizedClicks = featurizer.transform(df_clicks1)\n",
        "\n",
        "selectedCols = ['label', 'features'] + df_clicks1.columns\n",
        "featurizedClicks = featurizedClicks.select(selectedCols)\n",
        "featurizedClicks.printSchema()\n"
      ],
      "outputs": [
        {
          "output_type": "display_data",
          "data": {
            "application/vnd.livy.statement-meta+json": {
              "spark_pool": "SparkNB",
              "session_id": 0,
              "statement_id": 38,
              "state": "finished",
              "livy_statement_state": "available",
              "queued_time": "2022-05-01T23:56:31.0995064Z",
              "session_start_time": null,
              "execution_start_time": "2022-05-01T23:58:02.3375327Z",
              "execution_finish_time": "2022-05-01T23:58:20.4151032Z"
            },
            "text/plain": "StatementMeta(SparkNB, 0, 38, Finished, Available)"
          },
          "metadata": {}
        },
        {
          "output_type": "stream",
          "name": "stdout",
          "text": [
            "root\n |-- label: double (nullable = false)\n |-- features: vector (nullable = true)\n |-- id: double (nullable = true)\n |-- click: integer (nullable = true)\n |-- hour: integer (nullable = true)\n |-- C1: integer (nullable = true)\n |-- banner_pos: integer (nullable = true)\n |-- site_id: string (nullable = true)\n |-- site_domain: string (nullable = true)\n |-- product: string (nullable = true)\n |-- app_id: string (nullable = true)\n |-- app_domain: string (nullable = true)\n |-- app_category: string (nullable = true)\n |-- device_id: string (nullable = true)\n |-- device_ip: string (nullable = true)\n |-- device_model: string (nullable = true)\n |-- device_type: integer (nullable = true)\n |-- device_conn_type: integer (nullable = true)\n |-- C14: integer (nullable = true)\n |-- C15: integer (nullable = true)\n |-- C16: integer (nullable = true)\n |-- C17: integer (nullable = true)\n |-- C18: integer (nullable = true)\n |-- C19: integer (nullable = true)\n |-- C20: integer (nullable = true)\n |-- C21: integer (nullable = true)\n |-- hr: string (nullable = true)"
          ]
        }
      ],
      "execution_count": 39,
      "metadata": {
        "application/vnd.databricks.v1+cell": {
          "title": "",
          "showTitle": false,
          "inputWidgets": {},
          "nuid": "18bd0120-79bb-4ec4-959a-dc3ae4450247"
        }
      }
    },
    {
      "cell_type": "markdown",
      "source": [
        "As you can see, we now have 'features' column and 'label' column."
      ],
      "metadata": {
        "application/vnd.databricks.v1+cell": {
          "title": "",
          "showTitle": false,
          "inputWidgets": {},
          "nuid": "5a51b99f-fe75-4ff9-912e-893f36295a32"
        }
      }
    },
    {
      "cell_type": "code",
      "source": [
        "display(featurizedClicks.select('features', 'label').limit(10))"
      ],
      "outputs": [
        {
          "output_type": "display_data",
          "data": {
            "application/vnd.livy.statement-meta+json": {
              "spark_pool": "SparkNB",
              "session_id": 0,
              "statement_id": 40,
              "state": "finished",
              "livy_statement_state": "available",
              "queued_time": "2022-05-02T00:04:54.2607842Z",
              "session_start_time": null,
              "execution_start_time": "2022-05-02T00:04:54.4177086Z",
              "execution_finish_time": "2022-05-02T00:04:56.1885121Z"
            },
            "text/plain": "StatementMeta(SparkNB, 0, 40, Finished, Available)"
          },
          "metadata": {}
        },
        {
          "output_type": "display_data",
          "data": {
            "application/vnd.synapse.widget-view+json": {
              "widget_id": "71ea607b-0599-48bb-8188-102b0979e2ec",
              "widget_type": "Synapse.DataFrame"
            },
            "text/plain": "SynapseWidget(Synapse.DataFrame, 71ea607b-0599-48bb-8188-102b0979e2ec)"
          },
          "metadata": {}
        }
      ],
      "execution_count": 41,
      "metadata": {
        "application/vnd.databricks.v1+cell": {
          "title": "Feature and label columns",
          "showTitle": true,
          "inputWidgets": {},
          "nuid": "8ff5ae82-0745-40d6-9fdd-bfc1b3a8d447"
        },
        "collapsed": false
      }
    },
    {
      "cell_type": "code",
      "source": [
        "train, test = featurizedClicks \\\n",
        "  .select([\"label\", \"features\", \"hr\"]) \\\n",
        "  .randomSplit([0.7, 0.3], 42)\n",
        "train.cache()\n",
        "test.cache()\n",
        "\n",
        "print(\"Training Dataset Count: \" + str(train.count()))\n",
        "print(\"Test Dataset Count: \" + str(test.count()))"
      ],
      "outputs": [
        {
          "output_type": "display_data",
          "data": {
            "application/vnd.livy.statement-meta+json": {
              "spark_pool": "SparkNB",
              "session_id": 0,
              "statement_id": 41,
              "state": "finished",
              "livy_statement_state": "available",
              "queued_time": "2022-05-02T00:04:54.3876767Z",
              "session_start_time": null,
              "execution_start_time": "2022-05-02T00:04:56.3042007Z",
              "execution_finish_time": "2022-05-02T00:05:05.5005961Z"
            },
            "text/plain": "StatementMeta(SparkNB, 0, 41, Finished, Available)"
          },
          "metadata": {}
        },
        {
          "output_type": "stream",
          "name": "stdout",
          "text": [
            "Training Dataset Count: 734366\nTest Dataset Count: 314209"
          ]
        }
      ],
      "execution_count": 42,
      "metadata": {
        "application/vnd.databricks.v1+cell": {
          "title": "Split training and test data",
          "showTitle": true,
          "inputWidgets": {},
          "nuid": "33bb1cc6-d520-4450-954c-8cadff487cf9"
        }
      }
    },
    {
      "cell_type": "markdown",
      "source": [
        "We will take Gradient Boosting Tree classifier for our ML as that is a popular one. There are others you can try, XGBoost, Random forest etc. The exact nature of these models is outstide the scope for our demo."
      ],
      "metadata": {
        "application/vnd.databricks.v1+cell": {
          "title": "Machine Learning",
          "showTitle": true,
          "inputWidgets": {},
          "nuid": "08eaf294-c604-4f77-8b35-61945acd9493"
        }
      }
    },
    {
      "cell_type": "code",
      "source": [
        "from pyspark.ml.classification import GBTClassifier\n",
        "\n",
        "# Train our GBTClassifier model \n",
        "classifier = GBTClassifier(labelCol=\"label\", featuresCol=\"features\", maxBins=maxBins, maxDepth=10, maxIter=10)\n",
        "model = classifier.fit(train)"
      ],
      "outputs": [
        {
          "output_type": "display_data",
          "data": {
            "application/vnd.livy.statement-meta+json": {
              "spark_pool": "SparkNB",
              "session_id": 0,
              "statement_id": 42,
              "state": "finished",
              "livy_statement_state": "available",
              "queued_time": "2022-05-02T00:04:54.5623602Z",
              "session_start_time": null,
              "execution_start_time": "2022-05-02T00:05:05.730968Z",
              "execution_finish_time": "2022-05-02T00:05:41.0822249Z"
            },
            "text/plain": "StatementMeta(SparkNB, 0, 42, Finished, Available)"
          },
          "metadata": {}
        }
      ],
      "execution_count": 43,
      "metadata": {
        "application/vnd.databricks.v1+cell": {
          "title": "Train the model",
          "showTitle": true,
          "inputWidgets": {},
          "nuid": "afc123cc-d725-4e21-abff-bf1f4974ac7f"
        }
      }
    },
    {
      "cell_type": "code",
      "source": [
        "# Execute our predictions\n",
        "predictions = model.transform(test)\n",
        "\n",
        "predictions.select('hr', 'label', 'rawPrediction', 'prediction', 'probability').show(10)"
      ],
      "outputs": [
        {
          "output_type": "display_data",
          "data": {
            "application/vnd.livy.statement-meta+json": {
              "spark_pool": "SparkNB",
              "session_id": 0,
              "statement_id": 43,
              "state": "finished",
              "livy_statement_state": "available",
              "queued_time": "2022-05-02T00:04:54.9146697Z",
              "session_start_time": null,
              "execution_start_time": "2022-05-02T00:05:41.1996974Z",
              "execution_finish_time": "2022-05-02T00:05:41.7136475Z"
            },
            "text/plain": "StatementMeta(SparkNB, 0, 43, Finished, Available)"
          },
          "metadata": {}
        },
        {
          "output_type": "stream",
          "name": "stdout",
          "text": [
            "+---+-----+--------------------+----------+--------------------+\n| hr|label|       rawPrediction|prediction|         probability|\n+---+-----+--------------------+----------+--------------------+\n| 00|  0.0|[0.56423776377680...|       0.0|[0.75555745339017...|\n| 00|  0.0|[0.56423776377680...|       0.0|[0.75555745339017...|\n| 00|  0.0|[0.56423776377680...|       0.0|[0.75555745339017...|\n| 00|  0.0|[0.56423776377680...|       0.0|[0.75555745339017...|\n| 00|  0.0|[0.56423776377680...|       0.0|[0.75555745339017...|\n| 00|  0.0|[0.56423776377680...|       0.0|[0.75555745339017...|\n| 00|  0.0|[0.56423776377680...|       0.0|[0.75555745339017...|\n| 00|  0.0|[0.56423776377680...|       0.0|[0.75555745339017...|\n| 00|  0.0|[0.56423776377680...|       0.0|[0.75555745339017...|\n| 00|  0.0|[0.56423776377680...|       0.0|[0.75555745339017...|\n+---+-----+--------------------+----------+--------------------+\nonly showing top 10 rows"
          ]
        }
      ],
      "execution_count": 44,
      "metadata": {
        "application/vnd.databricks.v1+cell": {
          "title": "Predict",
          "showTitle": true,
          "inputWidgets": {},
          "nuid": "985c40b7-42bd-455d-9db1-57ead59d8779"
        }
      }
    },
    {
      "cell_type": "code",
      "source": [
        "from pyspark.ml.evaluation import BinaryClassificationEvaluator\n",
        "\n",
        "# Evaluate our GBTClassifier model using BinaryClassificationEvaluator()\n",
        "ev = BinaryClassificationEvaluator(rawPredictionCol=\"rawPrediction\", metricName=\"areaUnderROC\")\n",
        "\n",
        "print(\"Test Area Under ROC: \" + str(ev.evaluate(predictions)))"
      ],
      "outputs": [
        {
          "output_type": "display_data",
          "data": {
            "application/vnd.livy.statement-meta+json": {
              "spark_pool": "SparkNB",
              "session_id": 0,
              "statement_id": 44,
              "state": "finished",
              "livy_statement_state": "available",
              "queued_time": "2022-05-02T00:04:55.3903077Z",
              "session_start_time": null,
              "execution_start_time": "2022-05-02T00:05:41.8405755Z",
              "execution_finish_time": "2022-05-02T00:05:43.7532895Z"
            },
            "text/plain": "StatementMeta(SparkNB, 0, 44, Finished, Available)"
          },
          "metadata": {}
        },
        {
          "output_type": "stream",
          "name": "stdout",
          "text": [
            "Test Area Under ROC: 0.7277238524799394"
          ]
        }
      ],
      "execution_count": 45,
      "metadata": {
        "application/vnd.databricks.v1+cell": {
          "title": "Evaluation",
          "showTitle": true,
          "inputWidgets": {},
          "nuid": "0377c6af-6636-43a2-83be-c6d4b71d6141"
        }
      }
    },
    {
      "cell_type": "markdown",
      "source": [
        "An ROC curve (receiver operating characteristic curve) is a graph showing the performance of a classification model at all classification thresholds. \n",
        "AUC stands for \"Area under the ROC Curve.\" That is, AUC measures the entire two-dimensional area underneath the entire ROC curve.\n",
        "With our predictions, we can evaluate the model according to an evaluation metric, like area under the ROC curve, which in this case is 72%"
      ],
      "metadata": {
        "application/vnd.databricks.v1+cell": {
          "title": "AUC and ROC",
          "showTitle": true,
          "inputWidgets": {},
          "nuid": "36b6722f-8e41-438b-b2d4-f332c98c0ee2"
        }
      }
    },
    {
      "cell_type": "code",
      "source": [
        "#exaplanation of all parameters available\n",
        "print(classifier.explainParams())"
      ],
      "outputs": [
        {
          "output_type": "display_data",
          "data": {
            "application/vnd.livy.statement-meta+json": {
              "spark_pool": "SparkNB",
              "session_id": 0,
              "statement_id": 45,
              "state": "finished",
              "livy_statement_state": "available",
              "queued_time": "2022-05-02T00:04:55.5868465Z",
              "session_start_time": null,
              "execution_start_time": "2022-05-02T00:05:43.8500322Z",
              "execution_finish_time": "2022-05-02T00:05:43.9897907Z"
            },
            "text/plain": "StatementMeta(SparkNB, 0, 45, Finished, Available)"
          },
          "metadata": {}
        },
        {
          "output_type": "stream",
          "name": "stdout",
          "text": [
            "cacheNodeIds: If false, the algorithm will pass trees to executors to match instances with nodes. If true, the algorithm will cache node IDs for each instance. Caching can speed up training of deeper trees. Users can set how often should the cache be checkpointed or disable it by setting checkpointInterval. (default: False)\ncheckpointInterval: set checkpoint interval (>= 1) or disable checkpoint (-1). E.g. 10 means that the cache will get checkpointed every 10 iterations. Note: this setting will be ignored if the checkpoint directory is not set in the SparkContext. (default: 10)\nfeatureSubsetStrategy: The number of features to consider for splits at each tree node. Supported options: 'auto' (choose automatically for task: If numTrees == 1, set to 'all'. If numTrees > 1 (forest), set to 'sqrt' for classification and to 'onethird' for regression), 'all' (use all features), 'onethird' (use 1/3 of the features), 'sqrt' (use sqrt(number of features)), 'log2' (use log2(number of features)), 'n' (when n is in the range (0, 1.0], use n * number of features. When n is in the range (1, number of features), use n features). default = 'auto' (default: all)\nfeaturesCol: features column name. (default: features, current: features)\nimpurity: Criterion used for information gain calculation (case-insensitive). Supported options: variance (default: variance)\nlabelCol: label column name. (default: label, current: label)\nleafCol: Leaf indices column name. Predicted leaf index of each instance in each tree by preorder. (default: )\nlossType: Loss function which GBT tries to minimize (case-insensitive). Supported options: logistic (default: logistic)\nmaxBins: Max number of bins for discretizing continuous features.  Must be >=2 and >= number of categories for any categorical feature. (default: 32, current: 70)\nmaxDepth: Maximum depth of the tree. (>= 0) E.g., depth 0 means 1 leaf node; depth 1 means 1 internal node + 2 leaf nodes. (default: 5, current: 10)\nmaxIter: max number of iterations (>= 0). (default: 20, current: 10)\nmaxMemoryInMB: Maximum memory in MB allocated to histogram aggregation. If too small, then 1 node will be split per iteration, and its aggregates may exceed this size. (default: 256)\nminInfoGain: Minimum information gain for a split to be considered at a tree node. (default: 0.0)\nminInstancesPerNode: Minimum number of instances each child must have after split. If a split causes the left or right child to have fewer than minInstancesPerNode, the split will be discarded as invalid. Should be >= 1. (default: 1)\nminWeightFractionPerNode: Minimum fraction of the weighted sample count that each child must have after split. If a split causes the fraction of the total weight in the left or right child to be less than minWeightFractionPerNode, the split will be discarded as invalid. Should be in interval [0.0, 0.5). (default: 0.0)\npredictionCol: prediction column name. (default: prediction)\nprobabilityCol: Column name for predicted class conditional probabilities. Note: Not all models output well-calibrated probability estimates! These probabilities should be treated as confidences, not precise probabilities. (default: probability)\nrawPredictionCol: raw prediction (a.k.a. confidence) column name. (default: rawPrediction)\nseed: random seed. (default: 3504127614838123891)\nstepSize: Step size (a.k.a. learning rate) in interval (0, 1] for shrinking the contribution of each estimator. (default: 0.1)\nsubsamplingRate: Fraction of the training data used for learning each decision tree, in range (0, 1]. (default: 1.0)\nthresholds: Thresholds in multi-class classification to adjust the probability of predicting each class. Array must have length equal to the number of classes, with values > 0, excepting that at most one value may be 0. The class with largest value p/t is predicted, where p is the original probability of that class and t is the class's threshold. (undefined)\nvalidationIndicatorCol: name of the column that indicates whether each row is for training or for validation. False indicates training; true indicates validation. (undefined)\nvalidationTol: Threshold for stopping early when fit with validation is used. If the error rate on the validation input changes by less than the validationTol, then learning will stop early (before `maxIter`). This parameter is ignored when fit without validation is used. (default: 0.01)\nweightCol: weight column name. If this is not set or empty, we treat all instance weights as 1.0. (undefined)"
          ]
        }
      ],
      "execution_count": 46,
      "metadata": {
        "application/vnd.databricks.v1+cell": {
          "title": "",
          "showTitle": false,
          "inputWidgets": {},
          "nuid": "38b4d659-477c-422f-8e54-8f44421206db"
        }
      }
    },
    {
      "cell_type": "code",
      "source": [
        "import json\n",
        "features = map(lambda c: str(json.loads(json.dumps(c))['name']), \\\n",
        "               list(predictions.schema['features'].metadata.get('ml_attr').get('attrs').values())[0])\n",
        "# convert numpy.float64 to str for spark.createDataFrame()\n",
        "\n",
        "weights=map(lambda w: '%.10f' % w, model.featureImportances)\n",
        "weightedFeatures = sorted(zip(weights, features), key=lambda x: x[1], reverse=True)\n",
        "\n",
        "spark.createDataFrame(weightedFeatures).toDF(\"weight\", \"feature\").createOrReplaceTempView('wf')"
      ],
      "outputs": [
        {
          "output_type": "display_data",
          "data": {
            "application/vnd.livy.statement-meta+json": {
              "spark_pool": "SparkNB",
              "session_id": 0,
              "statement_id": 46,
              "state": "finished",
              "livy_statement_state": "available",
              "queued_time": "2022-05-02T00:04:55.7905596Z",
              "session_start_time": null,
              "execution_start_time": "2022-05-02T00:05:44.094971Z",
              "execution_finish_time": "2022-05-02T00:05:44.2401412Z"
            },
            "text/plain": "StatementMeta(SparkNB, 0, 46, Finished, Available)"
          },
          "metadata": {}
        }
      ],
      "execution_count": 47,
      "metadata": {
        "application/vnd.databricks.v1+cell": {
          "title": "Features by weight",
          "showTitle": true,
          "inputWidgets": {},
          "nuid": "6606f954-8cc2-40f8-ae32-a58e1891d03f"
        }
      }
    },
    {
      "cell_type": "code",
      "source": [
        "%%sql \n",
        "select feature, weight \n",
        "from wf \n",
        "order by weight desc"
      ],
      "outputs": [
        {
          "output_type": "display_data",
          "data": {
            "application/vnd.livy.statement-meta+json": {
              "spark_pool": "SparkNB",
              "session_id": 0,
              "statement_id": 47,
              "state": "finished",
              "livy_statement_state": "available",
              "queued_time": "2022-05-02T00:04:55.9572875Z",
              "session_start_time": null,
              "execution_start_time": "2022-05-02T00:05:44.3411645Z",
              "execution_finish_time": "2022-05-02T00:05:44.8908369Z"
            },
            "text/plain": "StatementMeta(SparkNB, 0, 47, Finished, Available)"
          },
          "metadata": {}
        },
        {
          "output_type": "execute_result",
          "execution_count": 48,
          "data": {
            "application/vnd.synapse.sparksql-result+json": {
              "schema": {
                "type": "struct",
                "fields": [
                  {
                    "name": "feature",
                    "type": "string",
                    "nullable": true,
                    "metadata": {}
                  },
                  {
                    "name": "weight",
                    "type": "string",
                    "nullable": true,
                    "metadata": {}
                  }
                ]
              },
              "data": [
                [
                  "C21_idx",
                  "0.5157696775"
                ],
                [
                  "C19_idx",
                  "0.1317153027"
                ],
                [
                  "product_idx",
                  "0.1019347784"
                ],
                [
                  "app_category_idx",
                  "0.0679620749"
                ],
                [
                  "hr_idx",
                  "0.0666044182"
                ],
                [
                  "device_conn_type_idx",
                  "0.0339336494"
                ],
                [
                  "banner_pos_idx",
                  "0.0306852856"
                ],
                [
                  "C16_idx",
                  "0.0191823244"
                ],
                [
                  "C1_idx",
                  "0.0142332325"
                ],
                [
                  "C18_idx",
                  "0.0073989387"
                ],
                [
                  "C15_idx",
                  "0.0060791441"
                ],
                [
                  "device_type_idx",
                  "0.0045011737"
                ],
                [
                  "hour_idx",
                  "0.0000000000"
                ]
              ]
            },
            "text/plain": "<Spark SQL result set with 13 rows and 2 fields>"
          },
          "metadata": {}
        }
      ],
      "execution_count": 48,
      "metadata": {
        "application/vnd.databricks.v1+cell": {
          "title": "",
          "showTitle": false,
          "inputWidgets": {},
          "nuid": "cdcdeb04-b3bd-4621-8ac3-cdcd81852505"
        },
        "microsoft": {
          "language": "sparksql"
        },
        "collapsed": false
      }
    },
    {
      "cell_type": "markdown",
      "source": [
        "#### Product feature has 10% weight on the prediction. Its not very high. So it does not impact heavily on the result, whether a customer clicks an ad or not. The feature C21 though is a different story, 53%. We should dig more into what that is and why it is influencing the result so much."
      ],
      "metadata": {
        "application/vnd.databricks.v1+cell": {
          "title": "Product feature weight",
          "showTitle": true,
          "inputWidgets": {},
          "nuid": "455555d2-4c66-49cc-b22d-680291fd7161"
        }
      }
    },
    {
      "cell_type": "code",
      "source": [
        "#create a sql view\n",
        "predictions.createOrReplaceTempView(\"predictions\")"
      ],
      "outputs": [
        {
          "output_type": "display_data",
          "data": {
            "application/vnd.livy.statement-meta+json": {
              "spark_pool": "SparkNB",
              "session_id": 0,
              "statement_id": 48,
              "state": "finished",
              "livy_statement_state": "available",
              "queued_time": "2022-05-02T00:04:56.1595059Z",
              "session_start_time": null,
              "execution_start_time": "2022-05-02T00:05:44.9996752Z",
              "execution_finish_time": "2022-05-02T00:05:45.1547119Z"
            },
            "text/plain": "StatementMeta(SparkNB, 0, 48, Finished, Available)"
          },
          "metadata": {}
        }
      ],
      "execution_count": 49,
      "metadata": {
        "application/vnd.databricks.v1+cell": {
          "title": "",
          "showTitle": false,
          "inputWidgets": {},
          "nuid": "c2f176cb-15b3-4af2-9ecd-faf898cc1d8f"
        }
      }
    },
    {
      "cell_type": "code",
      "source": [
        "%%sql \n",
        "describe predictions"
      ],
      "outputs": [
        {
          "output_type": "display_data",
          "data": {
            "application/vnd.livy.statement-meta+json": {
              "spark_pool": "SparkNB",
              "session_id": 0,
              "statement_id": 49,
              "state": "finished",
              "livy_statement_state": "available",
              "queued_time": "2022-05-02T00:04:56.3320513Z",
              "session_start_time": null,
              "execution_start_time": "2022-05-02T00:05:45.2603007Z",
              "execution_finish_time": "2022-05-02T00:05:45.4143133Z"
            },
            "text/plain": "StatementMeta(SparkNB, 0, 49, Finished, Available)"
          },
          "metadata": {}
        },
        {
          "output_type": "execute_result",
          "execution_count": 50,
          "data": {
            "application/vnd.synapse.sparksql-result+json": {
              "schema": {
                "type": "struct",
                "fields": [
                  {
                    "name": "col_name",
                    "type": "string",
                    "nullable": false,
                    "metadata": {
                      "comment": "name of the column"
                    }
                  },
                  {
                    "name": "data_type",
                    "type": "string",
                    "nullable": false,
                    "metadata": {
                      "comment": "data type of the column"
                    }
                  },
                  {
                    "name": "comment",
                    "type": "string",
                    "nullable": true,
                    "metadata": {
                      "comment": "comment of the column"
                    }
                  }
                ]
              },
              "data": [
                [
                  "label",
                  "double",
                  null
                ],
                [
                  "features",
                  "vector",
                  null
                ],
                [
                  "hr",
                  "string",
                  null
                ],
                [
                  "rawPrediction",
                  "vector",
                  null
                ],
                [
                  "probability",
                  "vector",
                  null
                ],
                [
                  "prediction",
                  "double",
                  null
                ]
              ]
            },
            "text/plain": "<Spark SQL result set with 6 rows and 3 fields>"
          },
          "metadata": {}
        }
      ],
      "execution_count": 50,
      "metadata": {
        "application/vnd.databricks.v1+cell": {
          "title": "",
          "showTitle": false,
          "inputWidgets": {},
          "nuid": "e4a80667-6d27-41e4-9d0f-514d53a6a5d5"
        },
        "microsoft": {
          "language": "sparksql"
        },
        "collapsed": false
      }
    },
    {
      "cell_type": "code",
      "source": [
        "%%sql \n",
        "select sum(case when prediction = label then 1 else 0 end) / (count(1) * 1.0) as accuracy\n",
        "from predictions"
      ],
      "outputs": [
        {
          "output_type": "display_data",
          "data": {
            "application/vnd.livy.statement-meta+json": {
              "spark_pool": "SparkNB",
              "session_id": 0,
              "statement_id": 50,
              "state": "finished",
              "livy_statement_state": "available",
              "queued_time": "2022-05-02T00:04:56.5393381Z",
              "session_start_time": null,
              "execution_start_time": "2022-05-02T00:05:45.6051434Z",
              "execution_finish_time": "2022-05-02T00:05:47.4589927Z"
            },
            "text/plain": "StatementMeta(SparkNB, 0, 50, Finished, Available)"
          },
          "metadata": {}
        },
        {
          "output_type": "execute_result",
          "execution_count": 51,
          "data": {
            "application/vnd.synapse.sparksql-result+json": {
              "schema": {
                "type": "struct",
                "fields": [
                  {
                    "name": "accuracy",
                    "type": "decimal(38,17)",
                    "nullable": true,
                    "metadata": {}
                  }
                ]
              },
              "data": [
                [
                  "0.84140174215251632"
                ]
              ]
            },
            "text/plain": "<Spark SQL result set with 1 rows and 1 fields>"
          },
          "metadata": {}
        }
      ],
      "execution_count": 51,
      "metadata": {
        "application/vnd.databricks.v1+cell": {
          "title": "",
          "showTitle": false,
          "inputWidgets": {},
          "nuid": "b89dff05-5740-448b-aa85-d0ce51eef07a"
        },
        "microsoft": {
          "language": "sparksql"
        },
        "collapsed": false
      }
    },
    {
      "cell_type": "markdown",
      "source": [
        "#### The AUC for our model is 72% and accuracy is 84%. Both are high enough. \n",
        "\n",
        "We evaluated two metrics, AUC and Accuracy. There are other metrics too like Precision, Recall, F1 score. Choosing the right metric needs some thinking. Sometimes it depends on the dataset, whether its balanced or not, or what kind of problem you are solving or what kind of ML model you are using. Again something outside the scope of this notebook.\n",
        "\n",
        "Product feature has 10% weight on the prediction. Its not very high, which means it does not impact heavily on the result. What product a customer sees has no effect on the probability an ad will be clicked.\n",
        "\n",
        "The feature C21 though is a different story, 53%. We should dig more into what that is and why it is influencing the result so much.\n",
        "\n",
        "Hope you got a taste of what kind of data analysis and ML models we can build on clickstream data and Dynamics data. \n",
        "\n",
        "Thank you."
      ],
      "metadata": {
        "application/vnd.databricks.v1+cell": {
          "title": "Conclusion",
          "showTitle": true,
          "inputWidgets": {},
          "nuid": "365d73e1-926e-4d19-83cf-42d294b1b731"
        }
      }
    }
  ],
  "metadata": {
    "kernelspec": {
      "name": "synapse_pyspark",
      "language": "Python",
      "display_name": "Synapse PySpark"
    },
    "language_info": {
      "name": "python"
    },
    "kernel_info": {
      "name": "synapse_pyspark"
    },
    "save_output": true,
    "synapse_widget": {
      "version": "0.1",
      "state": {
        "b89e29b3-1856-422c-abde-76f82a252f84": {
          "type": "Synapse.DataFrame",
          "sync_state": {
            "table": {
              "rows": [
                {
                  "0": "2.77E18",
                  "1": "0",
                  "2": "14102100",
                  "3": "1005",
                  "4": "0",
                  "5": "1fbe01fe",
                  "6": "f3845767",
                  "7": "28905ebd",
                  "8": "M0010",
                  "9": "ecad2386",
                  "10": "7801e8d9",
                  "11": "07d7df22",
                  "12": "a99f214a",
                  "13": "4.86E+10",
                  "14": "1f0bc64f",
                  "15": "1",
                  "16": "0",
                  "17": "15708",
                  "18": "320",
                  "19": "50",
                  "20": "1722",
                  "21": "0",
                  "22": "35",
                  "23": "-1",
                  "24": "79"
                },
                {
                  "0": "2.77E18",
                  "1": "0",
                  "2": "14102100",
                  "3": "1005",
                  "4": "0",
                  "5": "85f751fd",
                  "6": "c4e18dd6",
                  "7": "50e219e0",
                  "8": "M0001",
                  "9": "39947756",
                  "10": "2347f47a",
                  "11": "cef3e649",
                  "12": "221720f5",
                  "13": "2d5935d9",
                  "14": "1ccc7835",
                  "15": "1",
                  "16": "2",
                  "17": "18993",
                  "18": "320",
                  "19": "50",
                  "20": "2161",
                  "21": "0",
                  "22": "35",
                  "23": "-1",
                  "24": "157"
                },
                {
                  "0": "2.77E17",
                  "1": "0",
                  "2": "14102100",
                  "3": "1005",
                  "4": "0",
                  "5": "1fbe01fe",
                  "6": "f3845767",
                  "7": "28905ebd",
                  "8": "M0010",
                  "9": "ecad2386",
                  "10": "7801e8d9",
                  "11": "07d7df22",
                  "12": "a99f214a",
                  "13": "03dd2f44",
                  "14": "1f0bc64f",
                  "15": "1",
                  "16": "0",
                  "17": "15699",
                  "18": "320",
                  "19": "50",
                  "20": "1722",
                  "21": "0",
                  "22": "35",
                  "23": "100084",
                  "24": "79"
                },
                {
                  "0": "2.77E18",
                  "1": "0",
                  "2": "14102100",
                  "3": "1010",
                  "4": "1",
                  "5": "85f751fd",
                  "6": "c4e18dd6",
                  "7": "50e219e0",
                  "8": "M0001",
                  "9": "04f2be5f",
                  "10": "7801e8d9",
                  "11": "0f2161f8",
                  "12": "b05567c2",
                  "13": "a9fa3e5b",
                  "14": "f07e20f8",
                  "15": "5",
                  "16": "3",
                  "17": "21310",
                  "18": "320",
                  "19": "50",
                  "20": "2449",
                  "21": "0",
                  "22": "163",
                  "23": "100241",
                  "24": "91"
                },
                {
                  "0": "2.77E18",
                  "1": "0",
                  "2": "14102100",
                  "3": "1005",
                  "4": "0",
                  "5": "543a539e",
                  "6": "c7ca3108",
                  "7": "3e814130",
                  "8": "M0007",
                  "9": "ecad2386",
                  "10": "7801e8d9",
                  "11": "07d7df22",
                  "12": "a99f214a",
                  "13": "38f61ee1",
                  "14": "8d5a361f",
                  "15": "1",
                  "16": "0",
                  "17": "20352",
                  "18": "320",
                  "19": "50",
                  "20": "2333",
                  "21": "0",
                  "22": "39",
                  "23": "-1",
                  "24": "157"
                },
                {
                  "0": "2.77E18",
                  "1": "0",
                  "2": "14102100",
                  "3": "1005",
                  "4": "0",
                  "5": "1fbe01fe",
                  "6": "f3845767",
                  "7": "28905ebd",
                  "8": "M0010",
                  "9": "ecad2386",
                  "10": "7801e8d9",
                  "11": "07d7df22",
                  "12": "a99f214a",
                  "13": "34c23674",
                  "14": "d787e91b",
                  "15": "1",
                  "16": "0",
                  "17": "15707",
                  "18": "320",
                  "19": "50",
                  "20": "1722",
                  "21": "0",
                  "22": "35",
                  "23": "-1",
                  "24": "79"
                },
                {
                  "0": "2.77E18",
                  "1": "0",
                  "2": "14102100",
                  "3": "1005",
                  "4": "0",
                  "5": "1fbe01fe",
                  "6": "f3845767",
                  "7": "28905ebd",
                  "8": "M0010",
                  "9": "ecad2386",
                  "10": "7801e8d9",
                  "11": "07d7df22",
                  "12": "a99f214a",
                  "13": "2b6a4b00",
                  "14": "81b42528",
                  "15": "1",
                  "16": "0",
                  "17": "15708",
                  "18": "320",
                  "19": "50",
                  "20": "1722",
                  "21": "0",
                  "22": "35",
                  "23": "100083",
                  "24": "79"
                },
                {
                  "0": "2.77E18",
                  "1": "0",
                  "2": "14102100",
                  "3": "1005",
                  "4": "0",
                  "5": "85f751fd",
                  "6": "c4e18dd6",
                  "7": "50e219e0",
                  "8": "M0001",
                  "9": "febd1138",
                  "10": "82e27996",
                  "11": "0f2161f8",
                  "12": "a99f214a",
                  "13": "c8cdad4c",
                  "14": "9b5ce758",
                  "15": "1",
                  "16": "0",
                  "17": "21611",
                  "18": "320",
                  "19": "50",
                  "20": "2480",
                  "21": "3",
                  "22": "297",
                  "23": "100111",
                  "24": "61"
                },
                {
                  "0": "2.77E18",
                  "1": "1",
                  "2": "14102100",
                  "3": "1005",
                  "4": "0",
                  "5": "1fbe01fe",
                  "6": "f3845767",
                  "7": "28905ebd",
                  "8": "M0010",
                  "9": "ecad2386",
                  "10": "7801e8d9",
                  "11": "07d7df22",
                  "12": "a99f214a",
                  "13": "1cf29716",
                  "14": "5096d134",
                  "15": "1",
                  "16": "0",
                  "17": "15703",
                  "18": "320",
                  "19": "50",
                  "20": "1722",
                  "21": "0",
                  "22": "35",
                  "23": "-1",
                  "24": "79"
                },
                {
                  "0": "2.77E18",
                  "1": "0",
                  "2": "14102100",
                  "3": "1005",
                  "4": "1",
                  "5": "11944c42",
                  "6": "1a02dd86",
                  "7": "3e814130",
                  "8": "M0007",
                  "9": "ecad2386",
                  "10": "7801e8d9",
                  "11": "07d7df22",
                  "12": "a99f214a",
                  "13": "d5b9a501",
                  "14": "900981af",
                  "15": "1",
                  "16": "2",
                  "17": "20596",
                  "18": "320",
                  "19": "50",
                  "20": "2161",
                  "21": "0",
                  "22": "35",
                  "23": "100130",
                  "24": "157"
                }
              ],
              "schema": [
                {
                  "key": "0",
                  "name": "id",
                  "type": "double"
                },
                {
                  "key": "1",
                  "name": "click",
                  "type": "int"
                },
                {
                  "key": "2",
                  "name": "hour",
                  "type": "int"
                },
                {
                  "key": "3",
                  "name": "C1",
                  "type": "int"
                },
                {
                  "key": "4",
                  "name": "banner_pos",
                  "type": "int"
                },
                {
                  "key": "5",
                  "name": "site_id",
                  "type": "string"
                },
                {
                  "key": "6",
                  "name": "site_domain",
                  "type": "string"
                },
                {
                  "key": "7",
                  "name": "site_category",
                  "type": "string"
                },
                {
                  "key": "8",
                  "name": "product",
                  "type": "string"
                },
                {
                  "key": "9",
                  "name": "app_id",
                  "type": "string"
                },
                {
                  "key": "10",
                  "name": "app_domain",
                  "type": "string"
                },
                {
                  "key": "11",
                  "name": "app_category",
                  "type": "string"
                },
                {
                  "key": "12",
                  "name": "device_id",
                  "type": "string"
                },
                {
                  "key": "13",
                  "name": "device_ip",
                  "type": "string"
                },
                {
                  "key": "14",
                  "name": "device_model",
                  "type": "string"
                },
                {
                  "key": "15",
                  "name": "device_type",
                  "type": "int"
                },
                {
                  "key": "16",
                  "name": "device_conn_type",
                  "type": "int"
                },
                {
                  "key": "17",
                  "name": "C14",
                  "type": "int"
                },
                {
                  "key": "18",
                  "name": "C15",
                  "type": "int"
                },
                {
                  "key": "19",
                  "name": "C16",
                  "type": "int"
                },
                {
                  "key": "20",
                  "name": "C17",
                  "type": "int"
                },
                {
                  "key": "21",
                  "name": "C18",
                  "type": "int"
                },
                {
                  "key": "22",
                  "name": "C19",
                  "type": "int"
                },
                {
                  "key": "23",
                  "name": "C20",
                  "type": "int"
                },
                {
                  "key": "24",
                  "name": "C21",
                  "type": "int"
                }
              ],
              "truncated": false
            },
            "isSummary": false,
            "language": "scala"
          },
          "persist_state": {
            "view": {
              "type": "details",
              "tableOptions": {},
              "chartOptions": {
                "chartType": "bar",
                "aggregationType": "sum",
                "categoryFieldKeys": [
                  "1"
                ],
                "seriesFieldKeys": [
                  "0"
                ],
                "isStacked": false
              }
            }
          }
        },
        "46c4f8b5-ddce-4995-9b3e-3e6e0d0738ee": {
          "type": "Synapse.DataFrame",
          "sync_state": {
            "table": {
              "rows": [
                {
                  "0": "count",
                  "1": "1048575",
                  "2": "1048575",
                  "3": "1048575",
                  "4": "1048575",
                  "5": "1048575",
                  "6": "1048575",
                  "7": "1048575",
                  "8": "1048575",
                  "9": "1048575",
                  "10": "1048575",
                  "11": "1048575",
                  "12": "1048575",
                  "13": "1048575",
                  "14": "1048575",
                  "15": "1048575",
                  "16": "1048575",
                  "17": "1048575",
                  "18": "1048575",
                  "19": "1048575",
                  "20": "1048575",
                  "21": "1048575",
                  "22": "1048575",
                  "23": "1048575",
                  "24": "1048575",
                  "25": "1048575"
                },
                {
                  "0": "mean",
                  "1": "9.625753648290089E18",
                  "2": "0.1597386929881029",
                  "3": "1.4102102693410581E7",
                  "4": "1005.0856181007558",
                  "5": "0.2299806880766755",
                  "6": "Infinity",
                  "7": "Infinity",
                  "8": "Infinity",
                  "10": "Infinity",
                  "11": "Infinity",
                  "13": "Infinity",
                  "14": "Infinity",
                  "15": "Infinity",
                  "16": "1.0241222611639607",
                  "17": "0.22621843931049282",
                  "18": "18291.969587297044",
                  "19": "318.96731087428174",
                  "20": "56.529631166106384",
                  "21": "2044.9395245929",
                  "22": "1.4729075173449682",
                  "23": "190.75181746656176",
                  "24": "45400.48523376964",
                  "25": "69.428166797797"
                },
                {
                  "0": "stddev",
                  "1": "5.3252816667981629E18",
                  "2": "0.36636371402624646",
                  "3": "1.5443297157237614",
                  "4": "1.150260095608317",
                  "5": "0.4644457006515138",
                  "6": "NaN",
                  "7": "NaN",
                  "8": "NaN",
                  "10": "NaN",
                  "11": "NaN",
                  "13": "NaN",
                  "14": "NaN",
                  "15": "NaN",
                  "16": "0.4487517255174426",
                  "17": "0.6708972312755439",
                  "18": "3528.0969678224383",
                  "19": "19.52081676023684",
                  "20": "36.660982509727425",
                  "21": "443.68079429657234",
                  "22": "1.3633189585313015",
                  "23": "273.99519872324277",
                  "24": "49834.27263423596",
                  "25": "38.42995991531873"
                },
                {
                  "0": "min",
                  "1": "9.98E12",
                  "2": "0",
                  "3": "14102100",
                  "4": "1001",
                  "5": "0",
                  "6": "00255fb4",
                  "7": "005b495a",
                  "8": "0569f928",
                  "9": "D0001",
                  "10": "000d6291",
                  "11": "002e4064",
                  "12": "07d7df22",
                  "13": "0.00E+00",
                  "14": "00001c3b",
                  "15": "0009f4d7",
                  "16": "0",
                  "17": "0",
                  "18": "375",
                  "19": "120",
                  "20": "20",
                  "21": "112",
                  "22": "0",
                  "23": "33",
                  "24": "-1",
                  "25": "13"
                },
                {
                  "0": "max",
                  "1": "1.84E19",
                  "2": "1",
                  "3": "14102105",
                  "4": "1012",
                  "5": "7",
                  "6": "fffe8e1c",
                  "7": "fff602a2",
                  "8": "f66779e6",
                  "9": "M0017",
                  "10": "fff4213a",
                  "11": "fd68cbd8",
                  "12": "fc6fa53d",
                  "13": "ffffb0fc",
                  "14": "fffffaa3",
                  "15": "ffeafe15",
                  "16": "5",
                  "17": "5",
                  "18": "21705",
                  "19": "1024",
                  "20": "1024",
                  "21": "2497",
                  "22": "3",
                  "23": "1835",
                  "24": "100248",
                  "25": "195"
                }
              ],
              "schema": [
                {
                  "key": "0",
                  "name": "summary",
                  "type": "string"
                },
                {
                  "key": "1",
                  "name": "id",
                  "type": "string"
                },
                {
                  "key": "2",
                  "name": "click",
                  "type": "string"
                },
                {
                  "key": "3",
                  "name": "hour",
                  "type": "string"
                },
                {
                  "key": "4",
                  "name": "C1",
                  "type": "string"
                },
                {
                  "key": "5",
                  "name": "banner_pos",
                  "type": "string"
                },
                {
                  "key": "6",
                  "name": "site_id",
                  "type": "string"
                },
                {
                  "key": "7",
                  "name": "site_domain",
                  "type": "string"
                },
                {
                  "key": "8",
                  "name": "site_category",
                  "type": "string"
                },
                {
                  "key": "9",
                  "name": "product",
                  "type": "string"
                },
                {
                  "key": "10",
                  "name": "app_id",
                  "type": "string"
                },
                {
                  "key": "11",
                  "name": "app_domain",
                  "type": "string"
                },
                {
                  "key": "12",
                  "name": "app_category",
                  "type": "string"
                },
                {
                  "key": "13",
                  "name": "device_id",
                  "type": "string"
                },
                {
                  "key": "14",
                  "name": "device_ip",
                  "type": "string"
                },
                {
                  "key": "15",
                  "name": "device_model",
                  "type": "string"
                },
                {
                  "key": "16",
                  "name": "device_type",
                  "type": "string"
                },
                {
                  "key": "17",
                  "name": "device_conn_type",
                  "type": "string"
                },
                {
                  "key": "18",
                  "name": "C14",
                  "type": "string"
                },
                {
                  "key": "19",
                  "name": "C15",
                  "type": "string"
                },
                {
                  "key": "20",
                  "name": "C16",
                  "type": "string"
                },
                {
                  "key": "21",
                  "name": "C17",
                  "type": "string"
                },
                {
                  "key": "22",
                  "name": "C18",
                  "type": "string"
                },
                {
                  "key": "23",
                  "name": "C19",
                  "type": "string"
                },
                {
                  "key": "24",
                  "name": "C20",
                  "type": "string"
                },
                {
                  "key": "25",
                  "name": "C21",
                  "type": "string"
                }
              ],
              "truncated": false
            },
            "isSummary": false,
            "language": "scala"
          },
          "persist_state": {
            "view": {
              "type": "details",
              "tableOptions": {},
              "chartOptions": {
                "chartType": "bar",
                "aggregationType": "count",
                "categoryFieldKeys": [
                  "0"
                ],
                "seriesFieldKeys": [
                  "0"
                ],
                "isStacked": false
              }
            }
          }
        },
        "c82c774b-f5b2-469c-ba8e-77fcbe82e35c": {
          "type": "Synapse.DataFrame",
          "sync_state": {
            "table": {
              "rows": [
                {
                  "0": "22565421183",
                  "3": "2022-02-03T02:00:46.9157225Z",
                  "4": "22565421183",
                  "11": "0",
                  "12": "D0001",
                  "13": "13678",
                  "14": "0",
                  "15": "1",
                  "16": "MidRangeSpeaker",
                  "17": " ",
                  "18": "0",
                  "19": "0",
                  "20": "5637144576",
                  "21": "0",
                  "23": "0",
                  "24": "0",
                  "25": "0"
                },
                {
                  "0": "22565421184",
                  "3": "2022-02-03T02:00:46.9157463Z",
                  "4": "22565421184",
                  "11": "0",
                  "12": "D0002",
                  "13": "13678",
                  "14": "0",
                  "15": "1",
                  "16": "Cabinet",
                  "17": " ",
                  "18": "0",
                  "19": "0",
                  "20": "5637144576",
                  "21": "0",
                  "23": "0",
                  "24": "0",
                  "25": "0"
                },
                {
                  "0": "22565421185",
                  "3": "2022-02-03T02:00:46.9157627Z",
                  "4": "22565421185",
                  "11": "0",
                  "12": "D0003",
                  "13": "13678",
                  "14": "0",
                  "15": "1",
                  "16": "StandardSpeaker",
                  "17": " ",
                  "18": "0",
                  "19": "0",
                  "20": "5637144576",
                  "21": "0",
                  "23": "0",
                  "24": "0",
                  "25": "0"
                },
                {
                  "0": "22565421187",
                  "3": "2022-02-03T02:00:46.9157762Z",
                  "4": "22565421187",
                  "11": "0",
                  "12": "L0001",
                  "13": "13678",
                  "14": "0",
                  "15": "1",
                  "16": "MidRangeSpeaker2",
                  "17": " ",
                  "18": "0",
                  "19": "0",
                  "20": "5637144576",
                  "21": "0",
                  "23": "0",
                  "24": "0",
                  "25": "0"
                },
                {
                  "0": "22565421188",
                  "3": "2022-02-03T02:00:46.9157886Z",
                  "4": "22565421188",
                  "11": "0",
                  "12": "M0001",
                  "13": "13678",
                  "14": "0",
                  "15": "1",
                  "16": "WiringHarness",
                  "17": " ",
                  "18": "0",
                  "19": "0",
                  "20": "5637144576",
                  "21": "0",
                  "23": "0",
                  "24": "0",
                  "25": "0"
                },
                {
                  "0": "22565421189",
                  "3": "2022-02-03T02:00:46.9158037Z",
                  "4": "22565421189",
                  "11": "0",
                  "12": "M0002",
                  "13": "13678",
                  "14": "0",
                  "15": "1",
                  "16": "MidRangeSpeakerUnit",
                  "17": " ",
                  "18": "0",
                  "19": "0",
                  "20": "5637144576",
                  "21": "0",
                  "23": "0",
                  "24": "0",
                  "25": "0"
                },
                {
                  "0": "22565421190",
                  "3": "2022-02-03T02:00:46.9158168Z",
                  "4": "22565421190",
                  "11": "0",
                  "12": "M0003",
                  "13": "13678",
                  "14": "0",
                  "15": "1",
                  "16": "TweeterSpeakerUnit",
                  "17": " ",
                  "18": "0",
                  "19": "0",
                  "20": "5637144576",
                  "21": "0",
                  "23": "0",
                  "24": "0",
                  "25": "0"
                },
                {
                  "0": "22565421191",
                  "3": "2022-02-03T02:00:46.9158307Z",
                  "4": "22565421191",
                  "11": "0",
                  "12": "M0004",
                  "13": "13678",
                  "14": "0",
                  "15": "1",
                  "16": "Crossover",
                  "17": " ",
                  "18": "0",
                  "19": "0",
                  "20": "5637144576",
                  "21": "0",
                  "23": "0",
                  "24": "0",
                  "25": "0"
                },
                {
                  "0": "22565421192",
                  "3": "2022-02-03T02:00:46.9158424Z",
                  "4": "22565421192",
                  "11": "0",
                  "12": "M0005",
                  "13": "13678",
                  "14": "0",
                  "15": "1",
                  "16": "Enclosure",
                  "17": " ",
                  "18": "0",
                  "19": "0",
                  "20": "5637144576",
                  "21": "0",
                  "23": "0",
                  "24": "0",
                  "25": "0"
                },
                {
                  "0": "22565421193",
                  "3": "2022-02-03T02:00:46.9158548Z",
                  "4": "22565421193",
                  "11": "0",
                  "12": "M0006",
                  "13": "13678",
                  "14": "0",
                  "15": "1",
                  "16": "BindingPosts",
                  "17": " ",
                  "18": "0",
                  "19": "0",
                  "20": "5637144576",
                  "21": "0",
                  "23": "0",
                  "24": "0",
                  "25": "0"
                }
              ],
              "schema": [
                {
                  "key": "0",
                  "name": "_c0",
                  "type": "string"
                },
                {
                  "key": "1",
                  "name": "_c1",
                  "type": "string"
                },
                {
                  "key": "2",
                  "name": "_c2",
                  "type": "string"
                },
                {
                  "key": "3",
                  "name": "_c3",
                  "type": "string"
                },
                {
                  "key": "4",
                  "name": "_c4",
                  "type": "string"
                },
                {
                  "key": "5",
                  "name": "_c5",
                  "type": "string"
                },
                {
                  "key": "6",
                  "name": "_c6",
                  "type": "string"
                },
                {
                  "key": "7",
                  "name": "_c7",
                  "type": "string"
                },
                {
                  "key": "8",
                  "name": "_c8",
                  "type": "string"
                },
                {
                  "key": "9",
                  "name": "_c9",
                  "type": "string"
                },
                {
                  "key": "10",
                  "name": "_c10",
                  "type": "string"
                },
                {
                  "key": "11",
                  "name": "_c11",
                  "type": "string"
                },
                {
                  "key": "12",
                  "name": "_c12",
                  "type": "string"
                },
                {
                  "key": "13",
                  "name": "_c13",
                  "type": "string"
                },
                {
                  "key": "14",
                  "name": "_c14",
                  "type": "string"
                },
                {
                  "key": "15",
                  "name": "_c15",
                  "type": "string"
                },
                {
                  "key": "16",
                  "name": "_c16",
                  "type": "string"
                },
                {
                  "key": "17",
                  "name": "_c17",
                  "type": "string"
                },
                {
                  "key": "18",
                  "name": "_c18",
                  "type": "string"
                },
                {
                  "key": "19",
                  "name": "_c19",
                  "type": "string"
                },
                {
                  "key": "20",
                  "name": "_c20",
                  "type": "string"
                },
                {
                  "key": "21",
                  "name": "_c21",
                  "type": "string"
                },
                {
                  "key": "22",
                  "name": "_c22",
                  "type": "string"
                },
                {
                  "key": "23",
                  "name": "_c23",
                  "type": "string"
                },
                {
                  "key": "24",
                  "name": "_c24",
                  "type": "string"
                },
                {
                  "key": "25",
                  "name": "_c25",
                  "type": "string"
                }
              ],
              "truncated": false
            },
            "isSummary": false,
            "language": "scala"
          },
          "persist_state": {
            "view": {
              "type": "details",
              "tableOptions": {},
              "chartOptions": {
                "chartType": "bar",
                "aggregationType": "count",
                "categoryFieldKeys": [
                  "0"
                ],
                "seriesFieldKeys": [
                  "0"
                ],
                "isStacked": false
              }
            }
          }
        },
        "b789ba34-0ce9-4246-a802-83dc71822205": {
          "type": "Synapse.DataFrame",
          "sync_state": {
            "table": {
              "rows": [
                {
                  "0": "D0001",
                  "1": "MidRangeSpeaker"
                },
                {
                  "0": "D0002",
                  "1": "Cabinet"
                },
                {
                  "0": "D0003",
                  "1": "StandardSpeaker"
                },
                {
                  "0": "L0001",
                  "1": "MidRangeSpeaker2"
                },
                {
                  "0": "M0001",
                  "1": "WiringHarness"
                },
                {
                  "0": "M0002",
                  "1": "MidRangeSpeakerUnit"
                },
                {
                  "0": "M0003",
                  "1": "TweeterSpeakerUnit"
                },
                {
                  "0": "M0004",
                  "1": "Crossover"
                },
                {
                  "0": "M0005",
                  "1": "Enclosure"
                },
                {
                  "0": "M0006",
                  "1": "BindingPosts"
                }
              ],
              "schema": [
                {
                  "key": "0",
                  "name": "ProductId",
                  "type": "string"
                },
                {
                  "key": "1",
                  "name": "ProductName",
                  "type": "string"
                }
              ],
              "truncated": false
            },
            "isSummary": false,
            "language": "scala"
          },
          "persist_state": {
            "view": {
              "type": "details",
              "tableOptions": {},
              "chartOptions": {
                "chartType": "bar",
                "aggregationType": "count",
                "categoryFieldKeys": [
                  "0"
                ],
                "seriesFieldKeys": [
                  "0"
                ],
                "isStacked": false
              }
            }
          }
        },
        "0e5dbd35-4c34-44ac-80bd-77aea980f8cf": {
          "type": "Synapse.DataFrame",
          "sync_state": {
            "table": {
              "rows": [
                {
                  "0": "count",
                  "1": "1048575",
                  "2": "1048575",
                  "3": "1048575",
                  "4": "1048575",
                  "5": "1048575",
                  "6": "1048575",
                  "7": "1048575",
                  "8": "1048575",
                  "9": "1048575",
                  "10": "1048575",
                  "11": "1048575",
                  "12": "1048575",
                  "13": "1048575",
                  "14": "1048575",
                  "15": "1048575",
                  "16": "1048575",
                  "17": "1048575",
                  "18": "1048575",
                  "19": "1048575",
                  "20": "1048575",
                  "21": "1048575",
                  "22": "1048575",
                  "23": "1048575",
                  "24": "1048575",
                  "25": "1048575"
                },
                {
                  "0": "mean",
                  "1": "9.625753648290089E18",
                  "2": "0.1597386929881029",
                  "3": "1.4102102693410581E7",
                  "4": "1005.0856181007558",
                  "5": "0.2299806880766755",
                  "6": "Infinity",
                  "7": "Infinity",
                  "8": "Infinity",
                  "10": "Infinity",
                  "11": "Infinity",
                  "13": "Infinity",
                  "14": "Infinity",
                  "15": "Infinity",
                  "16": "1.0241222611639607",
                  "17": "0.22621843931049282",
                  "18": "18291.969587297044",
                  "19": "318.96731087428174",
                  "20": "56.529631166106384",
                  "21": "2044.9395245929",
                  "22": "1.4729075173449682",
                  "23": "190.75181746656176",
                  "24": "45400.48523376964",
                  "25": "69.428166797797"
                },
                {
                  "0": "stddev",
                  "1": "5.325281666798164E18",
                  "2": "0.36636371402624646",
                  "3": "1.5443297155139142",
                  "4": "1.150260095608316",
                  "5": "0.4644457006515138",
                  "6": "NaN",
                  "7": "NaN",
                  "8": "NaN",
                  "10": "NaN",
                  "11": "NaN",
                  "13": "NaN",
                  "14": "NaN",
                  "15": "NaN",
                  "16": "0.4487517255174425",
                  "17": "0.6708972312755438",
                  "18": "3528.0969678224387",
                  "19": "19.520816760236844",
                  "20": "36.660982509727425",
                  "21": "443.68079429657234",
                  "22": "1.3633189585313017",
                  "23": "273.99519872324277",
                  "24": "49834.27263423596",
                  "25": "38.42995991531874"
                },
                {
                  "0": "min",
                  "1": "9.98E12",
                  "2": "0",
                  "3": "14102100",
                  "4": "1001",
                  "5": "0",
                  "6": "00255fb4",
                  "7": "005b495a",
                  "8": "0569f928",
                  "9": "D0001",
                  "10": "000d6291",
                  "11": "002e4064",
                  "12": "07d7df22",
                  "13": "0.00E+00",
                  "14": "00001c3b",
                  "15": "0009f4d7",
                  "16": "0",
                  "17": "0",
                  "18": "375",
                  "19": "120",
                  "20": "20",
                  "21": "112",
                  "22": "0",
                  "23": "33",
                  "24": "-1",
                  "25": "13"
                },
                {
                  "0": "max",
                  "1": "1.84E19",
                  "2": "1",
                  "3": "14102105",
                  "4": "1012",
                  "5": "7",
                  "6": "fffe8e1c",
                  "7": "fff602a2",
                  "8": "f66779e6",
                  "9": "M0017",
                  "10": "fff4213a",
                  "11": "fd68cbd8",
                  "12": "fc6fa53d",
                  "13": "ffffb0fc",
                  "14": "fffffaa3",
                  "15": "ffeafe15",
                  "16": "5",
                  "17": "5",
                  "18": "21705",
                  "19": "1024",
                  "20": "1024",
                  "21": "2497",
                  "22": "3",
                  "23": "1835",
                  "24": "100248",
                  "25": "195"
                }
              ],
              "schema": [
                {
                  "key": "0",
                  "name": "summary",
                  "type": "string"
                },
                {
                  "key": "1",
                  "name": "id",
                  "type": "string"
                },
                {
                  "key": "2",
                  "name": "click",
                  "type": "string"
                },
                {
                  "key": "3",
                  "name": "hour",
                  "type": "string"
                },
                {
                  "key": "4",
                  "name": "C1",
                  "type": "string"
                },
                {
                  "key": "5",
                  "name": "banner_pos",
                  "type": "string"
                },
                {
                  "key": "6",
                  "name": "site_id",
                  "type": "string"
                },
                {
                  "key": "7",
                  "name": "site_domain",
                  "type": "string"
                },
                {
                  "key": "8",
                  "name": "site_category",
                  "type": "string"
                },
                {
                  "key": "9",
                  "name": "product",
                  "type": "string"
                },
                {
                  "key": "10",
                  "name": "app_id",
                  "type": "string"
                },
                {
                  "key": "11",
                  "name": "app_domain",
                  "type": "string"
                },
                {
                  "key": "12",
                  "name": "app_category",
                  "type": "string"
                },
                {
                  "key": "13",
                  "name": "device_id",
                  "type": "string"
                },
                {
                  "key": "14",
                  "name": "device_ip",
                  "type": "string"
                },
                {
                  "key": "15",
                  "name": "device_model",
                  "type": "string"
                },
                {
                  "key": "16",
                  "name": "device_type",
                  "type": "string"
                },
                {
                  "key": "17",
                  "name": "device_conn_type",
                  "type": "string"
                },
                {
                  "key": "18",
                  "name": "C14",
                  "type": "string"
                },
                {
                  "key": "19",
                  "name": "C15",
                  "type": "string"
                },
                {
                  "key": "20",
                  "name": "C16",
                  "type": "string"
                },
                {
                  "key": "21",
                  "name": "C17",
                  "type": "string"
                },
                {
                  "key": "22",
                  "name": "C18",
                  "type": "string"
                },
                {
                  "key": "23",
                  "name": "C19",
                  "type": "string"
                },
                {
                  "key": "24",
                  "name": "C20",
                  "type": "string"
                },
                {
                  "key": "25",
                  "name": "C21",
                  "type": "string"
                }
              ],
              "truncated": false
            },
            "isSummary": false,
            "language": "scala"
          },
          "persist_state": {
            "view": {
              "type": "details",
              "tableOptions": {},
              "chartOptions": {
                "chartType": "bar",
                "aggregationType": "count",
                "categoryFieldKeys": [
                  "0"
                ],
                "seriesFieldKeys": [
                  "0"
                ],
                "isStacked": false
              }
            }
          }
        },
        "6b200176-e177-4180-bf51-bd4655f1f85e": {
          "type": "Synapse.DataFrame",
          "sync_state": {
            "table": {
              "rows": [
                {
                  "0": "1.0E18",
                  "1": "0",
                  "2": "14102100",
                  "3": "1005",
                  "4": "0",
                  "5": "1fbe01fe",
                  "6": "f3845767",
                  "7": "M0010",
                  "8": "ecad2386",
                  "9": "7801e8d9",
                  "10": "07d7df22",
                  "11": "a99f214a",
                  "12": "ddd2926e",
                  "13": "44956a24",
                  "14": "1",
                  "15": "2",
                  "16": "15706",
                  "17": "320",
                  "18": "50",
                  "19": "1722",
                  "20": "0",
                  "21": "35",
                  "22": "-1",
                  "23": "79",
                  "24": "00"
                },
                {
                  "0": "1.0E19",
                  "1": "0",
                  "2": "14102100",
                  "3": "1005",
                  "4": "0",
                  "5": "1fbe01fe",
                  "6": "f3845767",
                  "7": "M0010",
                  "8": "ecad2386",
                  "9": "7801e8d9",
                  "10": "07d7df22",
                  "11": "a99f214a",
                  "12": "96809ac8",
                  "13": "711ee120",
                  "14": "1",
                  "15": "0",
                  "16": "15704",
                  "17": "320",
                  "18": "50",
                  "19": "1722",
                  "20": "0",
                  "21": "35",
                  "22": "100084",
                  "23": "79",
                  "24": "00"
                },
                {
                  "0": "1.0E19",
                  "1": "0",
                  "2": "14102100",
                  "3": "1005",
                  "4": "0",
                  "5": "1fbe01fe",
                  "6": "f3845767",
                  "7": "M0010",
                  "8": "ecad2386",
                  "9": "7801e8d9",
                  "10": "07d7df22",
                  "11": "a99f214a",
                  "12": "b3cf8def",
                  "13": "8a4875bd",
                  "14": "1",
                  "15": "0",
                  "16": "15704",
                  "17": "320",
                  "18": "50",
                  "19": "1722",
                  "20": "0",
                  "21": "35",
                  "22": "100084",
                  "23": "79",
                  "24": "00"
                },
                {
                  "0": "1.0E19",
                  "1": "0",
                  "2": "14102100",
                  "3": "1005",
                  "4": "0",
                  "5": "1fbe01fe",
                  "6": "f3845767",
                  "7": "M0010",
                  "8": "ecad2386",
                  "9": "7801e8d9",
                  "10": "07d7df22",
                  "11": "a99f214a",
                  "12": "e8275b8f",
                  "13": "6332421a",
                  "14": "1",
                  "15": "0",
                  "16": "15706",
                  "17": "320",
                  "18": "50",
                  "19": "1722",
                  "20": "0",
                  "21": "35",
                  "22": "100084",
                  "23": "79",
                  "24": "00"
                },
                {
                  "0": "1.0E19",
                  "1": "0",
                  "2": "14102100",
                  "3": "1005",
                  "4": "1",
                  "5": "fe8cc448",
                  "6": "9166c161",
                  "7": "M0008",
                  "8": "ecad2386",
                  "9": "7801e8d9",
                  "10": "07d7df22",
                  "11": "a99f214a",
                  "12": "9644d0bf",
                  "13": "779d90c2",
                  "14": "1",
                  "15": "0",
                  "16": "18993",
                  "17": "320",
                  "18": "50",
                  "19": "2161",
                  "20": "0",
                  "21": "35",
                  "22": "-1",
                  "23": "157",
                  "24": "00"
                },
                {
                  "0": "1.0E19",
                  "1": "0",
                  "2": "14102100",
                  "3": "1005",
                  "4": "0",
                  "5": "d6137915",
                  "6": "bb1ef334",
                  "7": "D0002",
                  "8": "ecad2386",
                  "9": "7801e8d9",
                  "10": "07d7df22",
                  "11": "a99f214a",
                  "12": "05241af0",
                  "13": "8a4875bd",
                  "14": "1",
                  "15": "0",
                  "16": "16920",
                  "17": "320",
                  "18": "50",
                  "19": "1899",
                  "20": "0",
                  "21": "431",
                  "22": "100077",
                  "23": "117",
                  "24": "00"
                },
                {
                  "0": "1.0E19",
                  "1": "0",
                  "2": "14102100",
                  "3": "1005",
                  "4": "0",
                  "5": "8fda644b",
                  "6": "25d4cfcd",
                  "7": "D0002",
                  "8": "ecad2386",
                  "9": "7801e8d9",
                  "10": "07d7df22",
                  "11": "a99f214a",
                  "12": "b264c159",
                  "13": "be6db1d7",
                  "14": "1",
                  "15": "0",
                  "16": "20362",
                  "17": "320",
                  "18": "50",
                  "19": "2333",
                  "20": "0",
                  "21": "39",
                  "22": "-1",
                  "23": "157",
                  "24": "00"
                },
                {
                  "0": "1.0E19",
                  "1": "0",
                  "2": "14102100",
                  "3": "1005",
                  "4": "1",
                  "5": "e151e245",
                  "6": "7e091613",
                  "7": "D0002",
                  "8": "ecad2386",
                  "9": "7801e8d9",
                  "10": "07d7df22",
                  "11": "a99f214a",
                  "12": "e6f67278",
                  "13": "be74e6fe",
                  "14": "1",
                  "15": "0",
                  "16": "20632",
                  "17": "320",
                  "18": "50",
                  "19": "2374",
                  "20": "3",
                  "21": "39",
                  "22": "-1",
                  "23": "23",
                  "24": "00"
                },
                {
                  "0": "1.0E19",
                  "1": "1",
                  "2": "14102100",
                  "3": "1005",
                  "4": "0",
                  "5": "1fbe01fe",
                  "6": "f3845767",
                  "7": "M0010",
                  "8": "ecad2386",
                  "9": "7801e8d9",
                  "10": "07d7df22",
                  "11": "a99f214a",
                  "12": "37e8da74",
                  "13": "5db079b5",
                  "14": "1",
                  "15": "2",
                  "16": "15707",
                  "17": "320",
                  "18": "50",
                  "19": "1722",
                  "20": "0",
                  "21": "35",
                  "22": "-1",
                  "23": "79",
                  "24": "00"
                },
                {
                  "0": "1.0E19",
                  "1": "0",
                  "2": "14102100",
                  "3": "1002",
                  "4": "0",
                  "5": "84c7ba46",
                  "6": "c4e18dd6",
                  "7": "M0001",
                  "8": "ecad2386",
                  "9": "7801e8d9",
                  "10": "07d7df22",
                  "11": "c357dbff",
                  "12": "f1ac7184",
                  "13": "373ecbe6",
                  "14": "0",
                  "15": "0",
                  "16": "21689",
                  "17": "320",
                  "18": "50",
                  "19": "2496",
                  "20": "3",
                  "21": "167",
                  "22": "100191",
                  "23": "23",
                  "24": "00"
                }
              ],
              "schema": [
                {
                  "key": "0",
                  "name": "id",
                  "type": "double"
                },
                {
                  "key": "1",
                  "name": "click",
                  "type": "int"
                },
                {
                  "key": "2",
                  "name": "hour",
                  "type": "int"
                },
                {
                  "key": "3",
                  "name": "C1",
                  "type": "int"
                },
                {
                  "key": "4",
                  "name": "banner_pos",
                  "type": "int"
                },
                {
                  "key": "5",
                  "name": "site_id",
                  "type": "string"
                },
                {
                  "key": "6",
                  "name": "site_domain",
                  "type": "string"
                },
                {
                  "key": "7",
                  "name": "product",
                  "type": "string"
                },
                {
                  "key": "8",
                  "name": "app_id",
                  "type": "string"
                },
                {
                  "key": "9",
                  "name": "app_domain",
                  "type": "string"
                },
                {
                  "key": "10",
                  "name": "app_category",
                  "type": "string"
                },
                {
                  "key": "11",
                  "name": "device_id",
                  "type": "string"
                },
                {
                  "key": "12",
                  "name": "device_ip",
                  "type": "string"
                },
                {
                  "key": "13",
                  "name": "device_model",
                  "type": "string"
                },
                {
                  "key": "14",
                  "name": "device_type",
                  "type": "int"
                },
                {
                  "key": "15",
                  "name": "device_conn_type",
                  "type": "int"
                },
                {
                  "key": "16",
                  "name": "C14",
                  "type": "int"
                },
                {
                  "key": "17",
                  "name": "C15",
                  "type": "int"
                },
                {
                  "key": "18",
                  "name": "C16",
                  "type": "int"
                },
                {
                  "key": "19",
                  "name": "C17",
                  "type": "int"
                },
                {
                  "key": "20",
                  "name": "C18",
                  "type": "int"
                },
                {
                  "key": "21",
                  "name": "C19",
                  "type": "int"
                },
                {
                  "key": "22",
                  "name": "C20",
                  "type": "int"
                },
                {
                  "key": "23",
                  "name": "C21",
                  "type": "int"
                },
                {
                  "key": "24",
                  "name": "hr",
                  "type": "string"
                }
              ],
              "truncated": false
            },
            "isSummary": false,
            "language": "scala"
          },
          "persist_state": {
            "view": {
              "type": "details",
              "tableOptions": {},
              "chartOptions": {
                "chartType": "bar",
                "aggregationType": "sum",
                "categoryFieldKeys": [
                  "1"
                ],
                "seriesFieldKeys": [
                  "0"
                ],
                "isStacked": false
              }
            }
          }
        },
        "fcd04bbf-ee7a-45c7-a920-974605d69752": {
          "type": "Synapse.DataFrame",
          "sync_state": {
            "table": {
              "rows": [
                {
                  "0": "device_ip",
                  "1": "325275"
                },
                {
                  "0": "device_id",
                  "1": "87398"
                },
                {
                  "0": "device_model",
                  "1": "4619"
                },
                {
                  "0": "app_id",
                  "1": "2360"
                },
                {
                  "0": "site_id",
                  "1": "2106"
                },
                {
                  "0": "site_domain",
                  "1": "2064"
                },
                {
                  "0": "app_domain",
                  "1": "159"
                },
                {
                  "0": "app_category",
                  "1": "23"
                },
                {
                  "0": "product",
                  "1": "21"
                },
                {
                  "0": "hr",
                  "1": "6"
                }
              ],
              "schema": [
                {
                  "key": "0",
                  "name": "_1",
                  "type": "string"
                },
                {
                  "key": "1",
                  "name": "_2",
                  "type": "bigint"
                }
              ],
              "truncated": false
            },
            "isSummary": false,
            "language": "scala"
          },
          "persist_state": {
            "view": {
              "type": "details",
              "tableOptions": {},
              "chartOptions": {
                "chartType": "bar",
                "aggregationType": "sum",
                "categoryFieldKeys": [
                  "0"
                ],
                "seriesFieldKeys": [
                  "1"
                ],
                "isStacked": false
              }
            }
          }
        },
        "9484eedf-d063-4765-9703-66e345c8348d": {
          "type": "Synapse.DataFrame",
          "sync_state": {
            "table": {
              "rows": [
                {
                  "0": "C14",
                  "1": "608"
                },
                {
                  "0": "C17",
                  "1": "162"
                },
                {
                  "0": "C20",
                  "1": "162"
                },
                {
                  "0": "C19",
                  "1": "41"
                },
                {
                  "0": "C21",
                  "1": "35"
                },
                {
                  "0": "C16",
                  "1": "9"
                },
                {
                  "0": "C15",
                  "1": "8"
                },
                {
                  "0": "C1",
                  "1": "7"
                },
                {
                  "0": "banner_pos",
                  "1": "7"
                },
                {
                  "0": "hour",
                  "1": "6"
                },
                {
                  "0": "device_type",
                  "1": "4"
                },
                {
                  "0": "device_conn_type",
                  "1": "4"
                },
                {
                  "0": "C18",
                  "1": "4"
                },
                {
                  "0": "click",
                  "1": "2"
                }
              ],
              "schema": [
                {
                  "key": "0",
                  "name": "_1",
                  "type": "string"
                },
                {
                  "key": "1",
                  "name": "_2",
                  "type": "bigint"
                }
              ],
              "truncated": false
            },
            "isSummary": false,
            "language": "scala"
          },
          "persist_state": {
            "view": {
              "type": "details",
              "tableOptions": {},
              "chartOptions": {
                "chartType": "bar",
                "aggregationType": "sum",
                "categoryFieldKeys": [
                  "0"
                ],
                "seriesFieldKeys": [
                  "1"
                ],
                "isStacked": false
              }
            }
          }
        },
        "71ea607b-0599-48bb-8188-102b0979e2ec": {
          "type": "Synapse.DataFrame",
          "sync_state": {
            "table": {
              "rows": [
                {
                  "0": {
                    "type": 0,
                    "size": 13,
                    "indices": [
                      1,
                      2,
                      9
                    ],
                    "values": [
                      2,
                      5,
                      5
                    ]
                  },
                  "1": "0.0"
                },
                {
                  "0": {
                    "type": 0,
                    "size": 13,
                    "indices": [
                      0,
                      2,
                      4,
                      9,
                      11
                    ],
                    "values": [
                      4,
                      5,
                      4,
                      5,
                      1
                    ]
                  },
                  "1": "0.0"
                },
                {
                  "0": {
                    "type": 0,
                    "size": 13,
                    "indices": [
                      1,
                      2,
                      9
                    ],
                    "values": [
                      2,
                      5,
                      5
                    ]
                  },
                  "1": "0.0"
                },
                {
                  "0": {
                    "type": 1,
                    "values": [
                      1,
                      0,
                      5,
                      10,
                      13,
                      0,
                      0,
                      2,
                      1,
                      5,
                      3,
                      2,
                      0
                    ]
                  },
                  "1": "0.0"
                },
                {
                  "0": {
                    "type": 0,
                    "size": 13,
                    "indices": [
                      1,
                      2,
                      3,
                      4,
                      9
                    ],
                    "values": [
                      3,
                      5,
                      1,
                      4,
                      5
                    ]
                  },
                  "1": "0.0"
                },
                {
                  "0": {
                    "type": 0,
                    "size": 13,
                    "indices": [
                      1,
                      2,
                      9
                    ],
                    "values": [
                      2,
                      5,
                      5
                    ]
                  },
                  "1": "0.0"
                },
                {
                  "0": {
                    "type": 0,
                    "size": 13,
                    "indices": [
                      1,
                      2,
                      9
                    ],
                    "values": [
                      2,
                      5,
                      5
                    ]
                  },
                  "1": "0.0"
                },
                {
                  "0": {
                    "type": 0,
                    "size": 13,
                    "indices": [
                      0,
                      2,
                      3,
                      4,
                      9,
                      12
                    ],
                    "values": [
                      1,
                      5,
                      5,
                      1,
                      5,
                      1
                    ]
                  },
                  "1": "0.0"
                },
                {
                  "0": {
                    "type": 0,
                    "size": 13,
                    "indices": [
                      1,
                      2,
                      9
                    ],
                    "values": [
                      2,
                      5,
                      5
                    ]
                  },
                  "1": "1.0"
                },
                {
                  "0": {
                    "type": 0,
                    "size": 13,
                    "indices": [
                      1,
                      2,
                      4,
                      8,
                      9,
                      11
                    ],
                    "values": [
                      3,
                      5,
                      4,
                      1,
                      5,
                      1
                    ]
                  },
                  "1": "0.0"
                }
              ],
              "schema": [
                {
                  "key": "0",
                  "name": "features",
                  "type": "org.apache.spark.ml.linalg.VectorUDT@3bfc3ba7"
                },
                {
                  "key": "1",
                  "name": "label",
                  "type": "double"
                }
              ],
              "truncated": false
            },
            "isSummary": false,
            "language": "scala"
          },
          "persist_state": {
            "view": {
              "type": "details",
              "tableOptions": {},
              "chartOptions": {
                "chartType": "bar",
                "aggregationType": "sum",
                "categoryFieldKeys": [],
                "seriesFieldKeys": [
                  "1"
                ],
                "isStacked": false
              }
            }
          }
        }
      }
    }
  },
  "nbformat": 4,
  "nbformat_minor": 2
}